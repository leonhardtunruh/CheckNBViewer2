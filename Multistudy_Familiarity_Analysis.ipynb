{
 "cells": [
  {
   "cell_type": "code",
   "execution_count": 2,
   "metadata": {},
   "outputs": [
    {
     "data": {
      "text/html": [
       "<script>\n",
       "code_show=true; \n",
       "function code_toggle() {\n",
       " if (code_show){\n",
       " $('div.input').hide();\n",
       " } else {\n",
       " $('div.input').show();\n",
       " }\n",
       " code_show = !code_show\n",
       "} \n",
       "$( document ).ready(code_toggle);\n",
       "</script>\n",
       "<form action=\"javascript:code_toggle()\"><input type=\"submit\" value=\"Click here to toggle on/off the raw code.\"></form>"
      ],
      "text/plain": [
       "<IPython.core.display.HTML object>"
      ]
     },
     "execution_count": 2,
     "metadata": {},
     "output_type": "execute_result"
    }
   ],
   "source": [
    "from IPython.display import HTML\n",
    "\n",
    "HTML('''<script>\n",
    "code_show=true; \n",
    "function code_toggle() {\n",
    " if (code_show){\n",
    " $('div.input').hide();\n",
    " } else {\n",
    " $('div.input').show();\n",
    " }\n",
    " code_show = !code_show\n",
    "} \n",
    "$( document ).ready(code_toggle);\n",
    "</script>\n",
    "<form action=\"javascript:code_toggle()\"><input type=\"submit\" value=\"Click here to toggle on/off the raw code.\"></form>''')"
   ]
  },
  {
   "cell_type": "markdown",
   "metadata": {},
   "source": [
    "# Familiarity Analysis Tidy"
   ]
  },
  {
   "cell_type": "markdown",
   "metadata": {},
   "source": [
    "# 1. Import Packages -> MOVE TO APPENDIX LATER?\n",
    "------------\n",
    "-----\n",
    "-----"
   ]
  },
  {
   "cell_type": "code",
   "execution_count": 2,
   "metadata": {
    "scrolled": true
   },
   "outputs": [
    {
     "name": "stdout",
     "output_type": "stream",
     "text": [
      "Populating the interactive namespace from numpy and matplotlib\n"
     ]
    },
    {
     "name": "stderr",
     "output_type": "stream",
     "text": [
      "C:\\ProgramData\\Anaconda3\\lib\\site-packages\\IPython\\core\\magics\\pylab.py:160: UserWarning: pylab import has clobbered these variables: ['pylab', 'copy']\n",
      "`%matplotlib` prevents importing * from pylab and numpy\n",
      "  \"\\n`%matplotlib` prevents importing * from pylab and numpy\"\n"
     ]
    }
   ],
   "source": [
    "import sys\n",
    "stdout = sys.stdout # save in case some importe\n",
    "import numpy as np\n",
    "import pandas as pd\n",
    "from pandas.core.frame import DataFrame as DF\n",
    "import seaborn as sns\n",
    "sns.set(color_codes=True)\n",
    "#np.random.seed(sum(map(ord, \"distributions\")))\n",
    "from sklearn import linear_model  # packages for the logistic regression function to plot the logistic regression \n",
    "from sklearn.linear_model import LogisticRegression # packages for the logistic regression function to plot the logistic regression \n",
    "import scipy\n",
    "from scipy import stats, integrate\n",
    "from scipy.stats import mode\n",
    "from scipy.stats.stats import pearsonr # Pearson's correlation\n",
    "from copy import copy as copy\n",
    "import operator as operator\n",
    "import pylab\n",
    "import statsmodels.api as sm\n",
    "\n",
    "# Plotting tools\n",
    "%matplotlib inline\n",
    "import matplotlib.pyplot as plt\n",
    "import matplotlib.gridspec as gridspec\n",
    "import matplotlib.patches as mpatches\n",
    "from mpl_toolkits.mplot3d import Axes3D\n",
    "from matplotlib import cm\n",
    "%pylab inline\n",
    "figsize(5, 5)\n",
    "\n",
    "import glob\n",
    "import os\n",
    "\n",
    "#pd.set_option('display.max_columns', 500) #uncomment for viewing of all variables in data frames"
   ]
  },
  {
   "cell_type": "code",
   "execution_count": 3,
   "metadata": {},
   "outputs": [],
   "source": [
    "import rpy2\n",
    "\n",
    "\n",
    "%load_ext rpy2.ipython\n",
    "# Set up interface with R\n",
    "# Make it easy to set and find values in a multi-index DF\n",
    "idx = pd.IndexSlice\n",
    "\n",
    "# Set up interface with R\n",
    "%config InlineBackend.figure_format = 'retina'\n",
    "import warnings\n",
    "from rpy2.rinterface import RRuntimeWarning\n",
    "warnings.filterwarnings(\"ignore\", category=RRuntimeWarning)\n",
    "sys.stdout = stdout"
   ]
  },
  {
   "cell_type": "code",
   "execution_count": 4,
   "metadata": {},
   "outputs": [],
   "source": [
    "%%R\n",
    "# Use in case the libraries are not available in the system\n",
    "#install.packages(\"lme4\")\n",
    "#install.packages(\"car\")\n",
    "#install.packages(\"ggplot2\")\n",
    "#install.packages(\"broom\")\n",
    "#install.packages(\"arm\")\n",
    "#install.packages(\"ggplot2\")\n",
    "#install.packages(\"optimx\")\n",
    "#install.packages(\"multcomp\")"
   ]
  },
  {
   "cell_type": "code",
   "execution_count": 5,
   "metadata": {},
   "outputs": [],
   "source": [
    "%%R\n",
    "library(lme4)\n",
    "library(car)\n",
    "library(optimx)\n",
    "library(ggplot2)\n",
    "library(MASS)\n",
    "library(pbkrtest)\n",
    "library(broom)\n",
    "library(dplyr)\n",
    "library(dplyr)\n",
    "library(reshape2)\n",
    "library(arm)\n",
    "library(multcomp)"
   ]
  },
  {
   "cell_type": "markdown",
   "metadata": {},
   "source": [
    "<a id='LoadFunc'></a>\n",
    "# 2. Defining Functions -> MOVE TO APPENDIX LATER?\n",
    "-----------\n",
    "-------\n",
    "---------"
   ]
  },
  {
   "cell_type": "markdown",
   "metadata": {},
   "source": [
    "## Calculate z-score (for Boldt(2016))"
   ]
  },
  {
   "cell_type": "code",
   "execution_count": 6,
   "metadata": {},
   "outputs": [],
   "source": [
    "def zScore_df_VFCS(data): #\n",
    "    \n",
    "    # Convert data to float for better handling\n",
    "    data.Value = [float(i) for i in data.Value]\n",
    "    data.Familiarity = [float(i) for i in data.Familiarity]\n",
    "    data.Confidence = [float(i) for i in data.Confidence]\n",
    "    data.Assigned_price = [float(i) for i in data.Assigned_price]\n",
    "    data.Real_price = [float(i) for i in data.Real_price]\n",
    "    data.RT1 = [float(i) for i in data.RT1]\n",
    "    data.RT2 = [float(i) for i in data.RT2]\n",
    "    data.Size = [float(i) for i in data.Size]\n",
    "    data.Real_size = [float(i) for i in data.Real_size]\n",
    "    \n",
    "    # z score value, familiarity and confidence\n",
    "    num_subjects = max(data['Subject'])\n",
    "    zValue = []\n",
    "    zFam = []\n",
    "    zConf = []\n",
    "    zSize = []\n",
    "    for sub in range(1,num_subjects+1):\n",
    "        sub_values = data['Value'][data['Subject']==sub]\n",
    "        sub_mean = sub_values.mean()\n",
    "        sub_std = sub_values.std()\n",
    "        for val in sub_values:\n",
    "            zValue.append((val - sub_mean)/sub_std)\n",
    "            \n",
    "        sub_fam = data['Familiarity'][data['Subject']==sub]\n",
    "        sub_mean = sub_fam.mean()\n",
    "        sub_std = sub_fam.std()\n",
    "        for fam in sub_fam:\n",
    "            zFam.append((fam-sub_mean)/sub_std)\n",
    "            \n",
    "        sub_conf = data['Confidence'][data['Subject']==sub]\n",
    "        sub_mean = sub_conf.mean()\n",
    "        sub_std = sub_conf.std()\n",
    "        for conf in sub_conf:\n",
    "            zConf.append((conf-sub_mean)/sub_std)\n",
    "            \n",
    "        sub_size = data['Size'][data['Subject']==sub]\n",
    "        sub_mean = sub_size.mean()\n",
    "        sub_std = sub_size.std()\n",
    "        for size in sub_size:\n",
    "            zSize.append((size-sub_mean)/sub_std)\n",
    "        \n",
    "    data['zValue'] = zValue\n",
    "    data['zFam'] = zFam\n",
    "    data['zConf'] = zConf\n",
    "    data['zSize'] = zSize\n",
    "    \n",
    "    return data"
   ]
  },
  {
   "cell_type": "markdown",
   "metadata": {},
   "source": [
    "## Calculate z-score (for NN(2013))"
   ]
  },
  {
   "cell_type": "code",
   "execution_count": 7,
   "metadata": {},
   "outputs": [],
   "source": [
    "def add_Value_Fam_LR(data): #\n",
    "   \n",
    "    # Add values and familiarities for left right item.\n",
    "    # We assume that 1 is left and 0 is right\n",
    "    data['RVal'] = np.where(data['Choice']==0, data['ChosenValue'],data['UnchosenValue'])\n",
    "    data['LVal'] = np.where(data['Choice']==1, data['ChosenValue'],data['UnchosenValue'])  \n",
    "    data['RFam'] = np.where(data['Choice']==0, data['ChosenFam'],data['UnchosenFam'])\n",
    "    data['LFam'] = np.where(data['Choice']==1, data['ChosenFam'],data['UnchosenFam'])  \n",
    "    \n",
    "    # Change CHOICE to have RIGHT =1  and LEFT = 0\n",
    "    data['Choice'] = np.where(data['Choice']==0, 1,0)  \n",
    "    \n",
    "    # z score value, familiarity\n",
    "    num_subjects = max(data['Participant'])\n",
    "    zRVal = []\n",
    "    zLVal = []\n",
    "    zRFam = []\n",
    "    zLFam = []\n",
    "    for sub in range(1,num_subjects+1):\n",
    "        sub_RVal = data['RVal'][data['Participant']==sub]\n",
    "        sub_mean = sub_RVal.mean()\n",
    "        sub_std = sub_RVal.std()\n",
    "        for rval in sub_RVal:\n",
    "            zRVal.append((rval - sub_mean)/sub_std)\n",
    "            \n",
    "        sub_LVal = data['LVal'][data['Participant']==sub]\n",
    "        sub_mean = sub_LVal.mean()\n",
    "        sub_std = sub_LVal.std()\n",
    "        for lval in sub_LVal:\n",
    "            zLVal.append((lval-sub_mean)/sub_std)\n",
    "            \n",
    "        sub_RFam = data['RFam'][data['Participant']==sub]\n",
    "        sub_mean = sub_RFam.mean()\n",
    "        sub_std = sub_RFam.std()\n",
    "        for rfam in sub_RFam:\n",
    "            zRFam.append((rfam-sub_mean)/sub_std)\n",
    "            \n",
    "        sub_LFam = data['LFam'][data['Participant']==sub]\n",
    "        sub_mean = sub_LFam.mean()\n",
    "        sub_std = sub_LFam.std()\n",
    "        for lfam in sub_LFam:\n",
    "            zLFam.append((lfam-sub_mean)/sub_std)\n",
    "        \n",
    "    data['zRVal'] = zRVal\n",
    "    data['zLVal'] = zLVal\n",
    "    data['zRFam'] = zRFam\n",
    "    data['zLFam'] = zLFam\n",
    "    \n",
    "    ## Calculate Split for confidence\n",
    "    \n",
    "    Splits_headers = ['ConfSplit']\n",
    "    Splits_variables = ['Confidence']\n",
    "    \n",
    "    median_matrix=[]\n",
    "    median_matrix_aux=[]\n",
    "    Split_cols = []\n",
    "\n",
    "    for h in range(len(Splits_variables)):\n",
    "        median_matrix=[]\n",
    "        for i in unique(data[\"Participant\"]):\n",
    "            median_matrix_aux=[]\n",
    "    \n",
    "            Splitdata = data.loc[data['Participant'] == i]\n",
    "            Splitdata['TrialN'] = range(len(Splitdata))\n",
    "            # Select the column to split\n",
    "            Splitdata = Splitdata.loc[:,['TrialN',Splits_variables[h]]]\n",
    "            SplitSort = Splitdata.values\n",
    "            # Sort for confidence column\n",
    "            SplitSort = SplitSort[np.argsort(SplitSort[:, 1])]\n",
    "            #print(SplitSort)\n",
    "            lenPart = len(Splitdata)\n",
    "            #print(lenPart)\n",
    "            # Generate column with median order\n",
    "            median_low = [0] * int (lenPart/2)\n",
    "            #print (median_low)\n",
    "            if lenPart % 2 == 0:\n",
    "                median_high = [1] * int (lenPart/2)\n",
    "            else:\n",
    "                median_high = [1] * int (lenPart/2 + 1)\n",
    "            #print (median_high)            \n",
    "            median_split_order = median_low + median_high\n",
    "            \n",
    "            #Attach split median order column (1 and 0)\n",
    "            median_aux= np.column_stack((SplitSort,median_split_order))\n",
    "            #Sort back to trial number\n",
    "            SplitSorted = median_aux[np.argsort(median_aux[:, 0])]\n",
    "            #print(len(SplitSorted))\n",
    "            \n",
    "            for kk in range(len(SplitSorted)): \n",
    "                if len(median_matrix_aux) == 0 :\n",
    "                    median_matrix_aux = SplitSorted[0]\n",
    "                else:\n",
    "                    median_matrix_aux = np.vstack([median_matrix_aux, SplitSorted[kk]])\n",
    "           \n",
    "            # sort after adding both conditions    \n",
    "            median_matrix_aux = median_matrix_aux[np.argsort(median_matrix_aux[:, 0])]\n",
    "\n",
    "            #Extract only the column with the median split information\n",
    "            median_matrix_aux = median_matrix_aux[:,2]\n",
    "\n",
    "            #append to median matrix for the participants\n",
    "            for k in range(len(median_matrix_aux)):    \n",
    "                median_matrix.append(median_matrix_aux [k])\n",
    "\n",
    "        median_matrix = pd.DataFrame(median_matrix,columns=[Splits_headers[h]])\n",
    "        #print(len (median_matrix))\n",
    "        #add new column (new split variable columns) to the split matrix\n",
    "        if  h == 0:\n",
    "            Split_cols = median_matrix\n",
    "        else:\n",
    "            Split_cols = pd.concat([Split_cols,median_matrix ],axis =1)\n",
    "\n",
    "    data['ConfSplit'] = Split_cols\n",
    "\n",
    "    \n",
    "    return data"
   ]
  },
  {
   "cell_type": "markdown",
   "metadata": {},
   "source": [
    "#### Taken from Folke et al. (2016)"
   ]
  },
  {
   "cell_type": "markdown",
   "metadata": {},
   "source": [
    "### Calculate zScores for Folke 2016"
   ]
  },
  {
   "cell_type": "code",
   "execution_count": 8,
   "metadata": {},
   "outputs": [],
   "source": [
    "def zScore_NHB2016(data):\n",
    "    # z score value, familiarity\n",
    "    subjects = data['Part'].unique()\n",
    "    zRVal = []\n",
    "    zLVal = []\n",
    "    zDVal = []\n",
    "    zDFam = []\n",
    "    zTotVal = []\n",
    "    zTotFam = []\n",
    "    for sub in subjects:\n",
    "        sub_RVal = data['RVal'][data['Part']==sub]\n",
    "        sub_mean = sub_RVal.mean()\n",
    "        sub_std = sub_RVal.std()\n",
    "        for rval in sub_RVal:\n",
    "            zRVal.append((rval - sub_mean)/sub_std)\n",
    "            \n",
    "        sub_LVal = data['LVal'][data['Part']==sub]\n",
    "        sub_mean = sub_LVal.mean()\n",
    "        sub_std = sub_LVal.std()\n",
    "        for lval in sub_LVal:\n",
    "            zLVal.append((lval-sub_mean)/sub_std)\n",
    "            \n",
    "        sub_DVal = data['DVal'][data['Part']==sub]\n",
    "        sub_mean = sub_DVal.mean()\n",
    "        sub_std = sub_DVal.std()\n",
    "        for dval in sub_DVal:\n",
    "            zDVal.append((dval-sub_mean)/sub_std)\n",
    "            \n",
    "        sub_DFam = data['DFam'][data['Part']==sub]\n",
    "        sub_mean = sub_DFam.mean()\n",
    "        sub_std = sub_DFam.std()\n",
    "        for dfam in sub_DFam:\n",
    "            zDFam.append((dfam-sub_mean)/sub_std)\n",
    "            \n",
    "        sub_TotVal = data['TotVal'][data['Part']==sub]\n",
    "        sub_mean = sub_TotVal.mean()\n",
    "        sub_std = sub_TotVal.std()\n",
    "        for totval in sub_TotVal:\n",
    "            zTotVal.append((totval-sub_mean)/sub_std)\n",
    "       \n",
    "        sub_TotFam = data['TotFam'][data['Part']==sub]\n",
    "        sub_mean = sub_TotFam.mean()\n",
    "        sub_std = sub_TotFam.std()\n",
    "        for totfam in sub_TotFam:\n",
    "            zTotFam.append((totfam-sub_mean)/sub_std)\n",
    "    \n",
    "    data['zRVal'] = zRVal\n",
    "    data['zLVal'] = zLVal\n",
    "    data['zDVal'] = zDVal\n",
    "    data['zDFam'] = zDFam\n",
    "    data['zTotVal'] = zTotVal\n",
    "    data['zTotFam'] = zTotFam\n",
    "    \n",
    "    return data"
   ]
  },
  {
   "cell_type": "code",
   "execution_count": 9,
   "metadata": {},
   "outputs": [
    {
     "ename": "NameError",
     "evalue": "name 'data_expNHB' is not defined",
     "output_type": "error",
     "traceback": [
      "\u001b[1;31m---------------------------------------------------------------------------\u001b[0m",
      "\u001b[1;31mNameError\u001b[0m                                 Traceback (most recent call last)",
      "\u001b[1;32m<ipython-input-9-7c7ca06131f5>\u001b[0m in \u001b[0;36m<module>\u001b[1;34m()\u001b[0m\n\u001b[1;32m----> 1\u001b[1;33m \u001b[0mdata_expNHB\u001b[0m\u001b[1;33m.\u001b[0m\u001b[0mdrop\u001b[0m\u001b[1;33m(\u001b[0m\u001b[0mdata_expNHB\u001b[0m\u001b[1;33m.\u001b[0m\u001b[0mTotVal\u001b[0m\u001b[1;33m==\u001b[0m\u001b[1;36m0\u001b[0m\u001b[1;33m)\u001b[0m\u001b[1;33m\u001b[0m\u001b[0m\n\u001b[0m",
      "\u001b[1;31mNameError\u001b[0m: name 'data_expNHB' is not defined"
     ]
    }
   ],
   "source": [
    "data_expNHB.drop(data_expNHB.TotVal==0)"
   ]
  },
  {
   "cell_type": "markdown",
   "metadata": {},
   "source": [
    "### Plot distributions"
   ]
  },
  {
   "cell_type": "code",
   "execution_count": null,
   "metadata": {},
   "outputs": [],
   "source": [
    "def participant_densities(data, var, xlim=(0,100), rug=True):\n",
    "    # a counter that tells us where a given participant's data should be plotted\n",
    "    order = 1\n",
    "\n",
    "    # a list of all the participants in the dataset\n",
    "    participants = data.loc[:, 'Part'].unique()\n",
    "\n",
    "    # defining the figure size\n",
    "    sns.set_style('white')\n",
    "    fig = figure(figsize=(15,70))\n",
    "\n",
    "    for x in participants:\n",
    "        # defining the sub figures\n",
    "            sub={}\n",
    "            sub['%s' % x] = plt.subplot(len(participants)/2, 3, order)\n",
    "            sns.kdeplot(data.loc[data['Part'] == x, var].values, ax = sub['%s' % x], shade=True)\n",
    "            #if rug==True:\n",
    "            #    sns.rugplot(data.loc[data['Part'] == x, var].values, ax = sub['%s' % x])\n",
    "            sub['%s' % x].set_title('participant %s' % x)\n",
    "            #sub['%s' % x].set_xlim(xlim)\n",
    "            order += 1"
   ]
  },
  {
   "cell_type": "markdown",
   "metadata": {},
   "source": [
    "### Split variable into participantwise quantiles"
   ]
  },
  {
   "cell_type": "code",
   "execution_count": 10,
   "metadata": {},
   "outputs": [],
   "source": [
    "def parsplit(DF, input, quantiles):\n",
    "    qvalues = pd.qcut(DF[input], quantiles, labels = range(1, quantiles+1))\n",
    "    return qvalues"
   ]
  },
  {
   "cell_type": "markdown",
   "metadata": {},
   "source": [
    "### Full simple logistic graph"
   ]
  },
  {
   "cell_type": "code",
   "execution_count": 11,
   "metadata": {},
   "outputs": [],
   "source": [
    "def logisticplot_all (moderator, modhigh, modlow, data, xaxis='zDV', yaxis='G_choice', ylab='P(Chose Reference Item)', xlab='DV (Z-score)',\n",
    "                 modhighcol='#000000', modlowcol='#AAAAAA', title='empty', parvar='SubNo'):\n",
    "    \n",
    "    sns.set(font_scale=1.5, style='white')\n",
    "    fig = figure(figsize=(8,7))\n",
    "    fig.set_facecolor('white')\n",
    "    \n",
    "    # defining the sigmoid function\n",
    "    def model(x):\n",
    "        y = 1 / (1 + np.exp(-x))\n",
    "        return y\n",
    "    \n",
    "    sub = plt.subplot()\n",
    "\n",
    "\n",
    "    #run the classifier\n",
    "    clf = linear_model.LogisticRegression(C=1e5)\n",
    "\n",
    "    # Paula used these dictionaries to store the values of the predictive lines for all the participants.\n",
    "    logit_low = {}\n",
    "    logit_high = {}\n",
    "\n",
    "    # I think this defines the problem space\n",
    "    X_test = np.linspace(-5,10,300)\n",
    "\n",
    "    # fitting the predictive logistic model for the low_confidence trials, for a participant specified by x\n",
    "    # first I specify the value difference right - left, then I specify the choices, left or right\n",
    "    clf.fit(data.loc[data[(data[moderator]==0)].index, xaxis][:, np.newaxis],\n",
    "            data.loc[data[(data[moderator]==0)].index, yaxis])\n",
    "    logit_low = model(X_test*clf.coef_ + clf.intercept_).ravel()\n",
    "\n",
    "\n",
    "    # fitting the predictive logistic model for the high_confidence trials, for a participant specified by x\n",
    "    # first I specify the value difference right - left, then I specify the choices, left or right\n",
    "    clf.fit(data.loc[data[(data[moderator]==1)].index, xaxis][:, np.newaxis],\n",
    "            data.loc[data[(data[moderator]==1)].index, yaxis])\n",
    "    logit_high = model(X_test * clf.coef_ + clf.intercept_).ravel()\n",
    "\n",
    "    #Plotting the predictive lines\n",
    "    line_high = sub.plot(X_test, logit_high, color=modhighcol, linewidth=5, label=modhigh, zorder=6)\n",
    "    line_low = sub.plot(X_test, logit_low, color=modlowcol, linewidth=5, label=modlow, zorder=5)\n",
    "\n",
    "\n",
    "    #Plotting the binned data\n",
    "    data['DVBin2'] = data.groupby(parvar).apply(parsplit, input=xaxis, quantiles=4).values\n",
    "    \n",
    "    # determine the x coordinates\n",
    "    x_cords= data.groupby('DVBin2')[xaxis].mean()\n",
    "    \n",
    "    # determine low y coordinates\n",
    "    y_cords_low = data.loc[(data[moderator]==0), :].groupby('DVBin2')[yaxis].mean().values\n",
    "    \n",
    "    # determine low y standard errors\n",
    "    test = pd.DataFrame(data.loc[(data[moderator]==0), :].groupby(['DVBin2', parvar])[yaxis].mean()).reset_index()\n",
    "    y_low_error = test.groupby('DVBin2')[yaxis].std()/np.sqrt(len(test[parvar].unique()))\n",
    "    \n",
    "    \n",
    "    # determine high y coordinates\n",
    "    y_cords_high = data.loc[(data[moderator]==1), :].groupby('DVBin2')[yaxis].mean().values\n",
    "    \n",
    "    # determine high y standard errors\n",
    "    test2 = pd.DataFrame(data.loc[data[moderator]==1, :].groupby(['DVBin2', parvar])[yaxis].mean()).reset_index()\n",
    "    y_high_error = test2.groupby('DVBin2')[yaxis].std()/np.sqrt(len(test[parvar].unique()))\n",
    "    \n",
    "    # plot the low points\n",
    "    plt.scatter(x_cords, y_cords_low, c=modlowcol, marker='D', s=60, zorder=1)\n",
    "    # plot low error bars\n",
    "    plt.errorbar(x_cords, y_cords_low, yerr=y_low_error, fmt='o', zorder=3, c=modlowcol)\n",
    "    \n",
    "    # plot the high points\n",
    "    plt.scatter(x_cords, y_cords_high, c=modhighcol, marker='o', s=60, zorder=2)\n",
    "    # plot high error bars\n",
    "    plt.errorbar(x_cords, y_cords_high, yerr=y_high_error, fmt='o', zorder=4, c=modhighcol)\n",
    "    \n",
    "    \n",
    "    # Set Labels\n",
    "    sub.set_ylabel(ylab, fontsize=30)\n",
    "    sub.set_xlabel(xlab, fontsize=30)\n",
    "\n",
    "    # Set Ticks\n",
    "    sub.set_xticks((-5,-3,-1,1,3,5))\n",
    "    sub.set_yticks((0,0.25,0.5,0.75,1))\n",
    "    sub.tick_params(axis='both', which='major', labelsize=20)\n",
    "\n",
    "    # Set Limits\n",
    "    sub.set_ylim(-0.01, 1.01)\n",
    "    sub.set_xlim(-5, 5)\n",
    "\n",
    "    # Set Title\n",
    "    if title == 'empty':\n",
    "        sub.set_title('')\n",
    "    else:\n",
    "        sub.set_title(title)\n",
    "    \n",
    "    sub.legend(loc=2, prop={'size':20})\n",
    "    sns.despine()"
   ]
  },
  {
   "cell_type": "markdown",
   "metadata": {},
   "source": [
    "### Full simple logistic graph (no bins)"
   ]
  },
  {
   "cell_type": "code",
   "execution_count": 12,
   "metadata": {},
   "outputs": [],
   "source": [
    "def logisticplot_simpl (moderator, modhigh, modlow, data, xaxis='zDV', yaxis='G_choice', ylab='P(Chose Reference Item)', xlab='DV (Z-score)',\n",
    "                 modhighcol='#000000', modlowcol='#AAAAAA', title='empty', parvar='SubNo'):\n",
    "    \n",
    "    sns.set(font_scale=1.5, style='white')\n",
    "    fig = figure(figsize=(8,7))\n",
    "    fig.set_facecolor('white')\n",
    "    \n",
    "    # defining the sigmoid function\n",
    "    def model(x):\n",
    "        y = 1 / (1 + np.exp(-x))\n",
    "        return y\n",
    "    \n",
    "    sub = plt.subplot()\n",
    "\n",
    "\n",
    "    #run the classifier\n",
    "    clf = linear_model.LogisticRegression(C=1e5)\n",
    "\n",
    "    # Paula used these dictionaries to store the values of the predictive lines for all the participants.\n",
    "    logit_low = {}\n",
    "    logit_high = {}\n",
    "\n",
    "    # I think this defines the problem space\n",
    "    X_test = np.linspace(-5,10,300)\n",
    "\n",
    "    # fitting the predictive logistic model for the low_confidence trials, for a participant specified by x\n",
    "    # first I specify the value difference right - left, then I specify the choices, left or right\n",
    "    clf.fit(data.loc[data[(data[moderator]==0)].index, xaxis][:, np.newaxis],\n",
    "            data.loc[data[(data[moderator]==0)].index, yaxis])\n",
    "    logit_low = model(X_test*clf.coef_ + clf.intercept_).ravel()\n",
    "    print ('Low measure coef',clf.coef_)\n",
    "    \n",
    "    # fitting the predictive logistic model for the high_confidence trials, for a participant specified by x\n",
    "    # first I specify the value difference right - left, then I specify the choices, left or right\n",
    "    clf.fit(data.loc[data[(data[moderator]==1)].index, xaxis][:, np.newaxis],\n",
    "            data.loc[data[(data[moderator]==1)].index, yaxis])\n",
    "    logit_high = model(X_test * clf.coef_ + clf.intercept_).ravel()\n",
    "    print ('High measure coef',clf.coef_)\n",
    "\n",
    "\n",
    "\n",
    "    #Plotting the predictive lines\n",
    "    line_high = sub.plot(X_test, logit_high, color=modhighcol, linewidth=5, label=modhigh, zorder=6)\n",
    "    line_low = sub.plot(X_test, logit_low, color=modlowcol, linewidth=5, label=modlow, zorder=5) \n",
    "    \n",
    "    # Set Labels\n",
    "    sub.set_ylabel(ylab, fontsize=30)\n",
    "    sub.set_xlabel(xlab, fontsize=30)\n",
    "\n",
    "    # Set Ticks\n",
    "    sub.set_xticks((-5,-3,-1,1,3,5))\n",
    "    sub.set_yticks((0,0.25,0.5,0.75,1))\n",
    "    sub.tick_params(axis='both', which='major', labelsize=20)\n",
    "\n",
    "    # Set Limits\n",
    "    sub.set_ylim(-0.01, 1.01)\n",
    "    sub.set_xlim(-5, 5)\n",
    "\n",
    "    # Set Title\n",
    "    if title == 'empty':\n",
    "        sub.set_title('')\n",
    "    else:\n",
    "        sub.set_title(title)\n",
    "    \n",
    "    sub.legend(loc=2, prop={'size':20})\n",
    "    sns.despine()"
   ]
  },
  {
   "cell_type": "markdown",
   "metadata": {},
   "source": [
    "### Regression Coefficients Plot"
   ]
  },
  {
   "cell_type": "code",
   "execution_count": 13,
   "metadata": {},
   "outputs": [],
   "source": [
    "def Coefpresplot(regtable, intercept=False, title='Regression Coefficients', size='big', ylimits=(), ymultiple=0.5, ticklabsize=25, n_ET_predictors = 0):\n",
    "\n",
    "    # Import itertools so that we can iterate through the colours\n",
    "    import itertools\n",
    "    \n",
    "    # Import locators so that we can tidy up the yaxis\n",
    "    from matplotlib.ticker import MultipleLocator, FormatStrFormatter\n",
    "    \n",
    "    # rounding function to get edges to even 0.5 values\n",
    "    def round_to(n, precision):\n",
    "        correction = 0.5 if n >= 0 else -0.5\n",
    "        return int( n/precision+correction ) * precision\n",
    "\n",
    "    def round_to_5(n):\n",
    "        return round_to(n, 0.5)\n",
    "\n",
    "    # Set seaborn style for the plot\n",
    "    sns.set(style='white')\n",
    "    \n",
    "    # Generate the figure\n",
    "    if size=='big':\n",
    "        fig = plt.figure(figsize=[20,8])\n",
    "    elif size=='long':\n",
    "        fig = plt.figure(figsize=[20,4])\n",
    "    elif size=='narrow':\n",
    "        fig = plt.figure(figsize=[10,4])\n",
    "        \n",
    "    fig.suptitle(title, fontsize=20)\n",
    "    gs = GridSpec(1,1,bottom=0.18,left=0.18,right=0.82)\n",
    "    ax = fig.add_subplot(gs[0,0])\n",
    "    \n",
    "    # Set axis limits based on whether to include the intercept or not    \n",
    "    if intercept == True:\n",
    "        XLim = (0.75, len(regtable.columns) + 0.25)\n",
    "        YLim = (round_to_5(regtable.loc['CImin', :].min()-0.1), round_to_5(regtable.loc['CImax', :].max()+0.2))\n",
    "    else:\n",
    "        XLim = (0.75, len(regtable.columns) - 0.75)\n",
    "        YLim = (round_to_5(regtable.loc['CImin', regtable.columns[1]:].min()-0.2), round_to_5(regtable.loc['CImax', regtable.columns[1]:].max()+0.2))\n",
    "    if ylimits != ():\n",
    "        YLim = ylimits\n",
    "    ax.set_xlim(XLim)\n",
    "    ax.set_ylim(YLim)\n",
    "    \n",
    "    # Draw a line through the 0-value on the y-axis\n",
    "    line = ax.plot(XLim, [0, 0], color='black', ls='--', alpha = 0.5, lw=3)\n",
    "    \n",
    "    \n",
    "    # If intercept is true, plot the coefficient for the intercept\n",
    "    if intercept == True:\n",
    "        Coefficients = regtable.columns\n",
    "    else:\n",
    "        Coefficients = regtable.columns[1:]\n",
    "        \n",
    "    # Determine the colours for the coefficients based on the n_ET_variable\n",
    "    n_predictors = len(Coefficients)\n",
    "    n_non_ET_predictors = n_predictors - n_ET_predictors\n",
    "    \n",
    "    colourlist = ['#000000'] * n_non_ET_predictors + ['#03719c'] * n_ET_predictors\n",
    "    \n",
    "        \n",
    "    # Plot all the coefficients with 95% CI\n",
    "    position = 0\n",
    "    for Coefficient in Coefficients:\n",
    "        position += 1\n",
    "        ax.plot(position, regtable.loc['coefficient', Coefficient], marker='o', ms=8, color=colourlist[position-1],)\n",
    "        ax.errorbar(position, regtable.loc['coefficient', Coefficient],\n",
    "                    yerr=regtable.loc['se', Coefficient]*1.96, lw=2, color=colourlist[position-1])\n",
    "\n",
    "    # Setting the x-axis major tick's location\n",
    "    ax.set_xticks(range(1, position+1))\n",
    "    \n",
    "    # set the y-axis major tick position\n",
    "    ax.yaxis.set_major_locator(MultipleLocator(ymultiple))\n",
    "\n",
    "\n",
    "    # Setting the x-axis major tick's label\n",
    "    if intercept == True:\n",
    "        ax.set_xticklabels(regtable.columns, rotation=40)\n",
    "    else: \n",
    "        ax.set_xticklabels(regtable.columns[1:], rotation=40)\n",
    "    \n",
    "    ax.tick_params(axis='both', which='major', labelsize=ticklabsize)\n",
    "    ax.set_ylabel('Fixed Effects Coefficients', fontsize=18)\n",
    "    \n",
    "    # Autoformats the ticklabels for the xaxis\n",
    "    fig.autofmt_xdate()\n",
    "    \n",
    "    sns.despine()"
   ]
  },
  {
   "cell_type": "code",
   "execution_count": 14,
   "metadata": {},
   "outputs": [],
   "source": [
    "def Coefpresplot2(regtable,regtable2, intercept=False, title='Regression Coefficients', size='big', ylimits=(), ymultiple=0.5, ticklabsize=25, n_ET_predictors = 0):\n",
    "\n",
    "    # Import itertools so that we can iterate through the colours\n",
    "    import itertools\n",
    "    \n",
    "    # Import locators so that we can tidy up the yaxis\n",
    "    from matplotlib.ticker import MultipleLocator, FormatStrFormatter\n",
    "    \n",
    "    # rounding function to get edges to even 0.5 values\n",
    "    def round_to(n, precision):\n",
    "        correction = 0.5 if n >= 0 else -0.5\n",
    "        return int( n/precision+correction ) * precision\n",
    "\n",
    "    def round_to_5(n):\n",
    "        return round_to(n, 0.5)\n",
    "\n",
    "    # Set seaborn style for the plot\n",
    "    sns.set(style='white')\n",
    "    \n",
    "    # Generate the figure\n",
    "    if size=='big':\n",
    "        fig = plt.figure(figsize=[20,8])\n",
    "    elif size=='long':\n",
    "        fig = plt.figure(figsize=[20,4])\n",
    "    elif size=='narrow':\n",
    "        fig = plt.figure(figsize=[10,4])\n",
    "        \n",
    "    fig.suptitle(title, fontsize=20)\n",
    "    gs = GridSpec(1,1,bottom=0.18,left=0.18,right=0.82)\n",
    "    ax = fig.add_subplot(gs[0,0])\n",
    "    \n",
    "\n",
    "    # Set axis limits based on whether to include the intercept or not    \n",
    "    \n",
    "       \n",
    "    \n",
    "    if intercept == True:\n",
    "        \n",
    "        XLim = (0.75, len(regtable.columns) + 0.25)\n",
    "        \n",
    "        #Determine the Ymax and Ymin for both regresions results\n",
    "        if round_to_5(regtable.loc['CImin', :].min()) < round_to_5(regtable2.loc['CImin', :].min()):\n",
    "            Ymin = round_to_5(regtable.loc['CImin', :].min()-0.5)\n",
    "        else :\n",
    "            Ymin = round_to_5(regtable2.loc['CImin',:].min()-0.5)\n",
    "        if round_to_5(regtable.loc['CImax', :].max()) > round_to_5(regtable2.loc['CImax', :].max()):\n",
    "            Ymax = round_to_5(regtable.loc['CImax', :].max()+0.5)\n",
    "        else :\n",
    "            Ymax = round_to_5(regtable2.loc['CImax', :].max()+0.5)      \n",
    "\n",
    "        YLim = (Ymin, Ymax)    \n",
    "    else:\n",
    "        XLim = (0.75, len(regtable.columns) - 0.75)\n",
    "        \n",
    "        #Determine the Ymax and Ymin for both regresions results\n",
    "        if round_to_5(regtable.loc['CImin', regtable.columns[1]:].min()) < round_to_5(regtable2.loc['CImin', regtable.columns[1]:].min()):\n",
    "            Ymin = round_to_5(regtable.loc['CImin', regtable.columns[1]:].min()-0.5)\n",
    "        else :\n",
    "            Ymin = round_to_5(regtable2.loc['CImin',regtable.columns[1]:].min()-0.5)\n",
    "        if round_to_5(regtable.loc['CImax', regtable.columns[1]:].max()) > round_to_5(regtable2.loc['CImax', regtable.columns[1]:].max()):\n",
    "            Ymax = round_to_5(regtable.loc['CImax', regtable.columns[1]:].max()+0.5)\n",
    "        else :\n",
    "            Ymax = round_to_5(regtable2.loc['CImax', regtable.columns[1]:].max()+0.5)      \n",
    "        \n",
    "        YLim = (Ymin, Ymax)\n",
    "    \n",
    "    if ylimits != ():\n",
    "        YLim = ylimits\n",
    "    ax.set_xlim(XLim)\n",
    "    ax.set_ylim(YLim)\n",
    "    \n",
    "    # Draw a line through the 0-value on the y-axis\n",
    "    line = ax.plot(XLim, [0, 0], color='black', ls='--', alpha = 0.5, lw=3)\n",
    "    \n",
    "    \n",
    "    # If intercept is true, plot the coefficient for the intercept\n",
    "    # both regtable should have the same regressors (and in the same order)\n",
    "\n",
    "    if intercept == True:\n",
    "        Coefficients = regtable.columns\n",
    " #       Coefficients2 = regtable2.columns\n",
    "    else:\n",
    "        Coefficients = regtable.columns[1:]\n",
    "#        Coefficients2 = regtable2.columns[1:]\n",
    "        \n",
    "    # Determine the colours for the coefficients based on the n_ET_variable\n",
    "    n_predictors = len(Coefficients)\n",
    "    n_non_ET_predictors = n_predictors - n_ET_predictors\n",
    "    \n",
    "    colourlist = ['#000000'] * n_non_ET_predictors + ['#03719c'] * n_ET_predictors\n",
    "    \n",
    "        \n",
    "    # Plot all the coefficients with 95% CI\n",
    "    position = 0\n",
    "    for Coefficient in Coefficients:\n",
    "        position += 1\n",
    "        ax.plot(position-0.1, regtable.loc['coefficient', Coefficient], marker='o', ms=8, color='blue',label = 'Like')\n",
    "        ax.plot(position+0.1, regtable2.loc['coefficient', Coefficient], marker='X', ms=8, color='red', label = 'Dislike')\n",
    "\n",
    "\n",
    "        ax.errorbar(position-0.1, regtable.loc['coefficient', Coefficient],\n",
    "                    yerr=regtable.loc['se', Coefficient]*1.96, lw=2, color='blue')\n",
    "        ax.errorbar(position+0.1, regtable2.loc['coefficient', Coefficient],\n",
    "                    yerr=regtable2.loc['se', Coefficient]*1.96, lw=2, color='red')\n",
    "        \n",
    "        if position == 1:\n",
    "            ax.legend( prop={'size': 20})\n",
    "\n",
    " \n",
    "    # Setting the x-axis major tick's location\n",
    "    ax.set_xticks(range(1, position+1))\n",
    "    \n",
    "    # set the y-axis major tick position\n",
    "    ax.yaxis.set_major_locator(MultipleLocator(ymultiple))\n",
    "\n",
    "    # Setting the x-axis major tick's label\n",
    "    if intercept == True:\n",
    "        ax.set_xticklabels(regtable.columns, rotation=40)\n",
    "    else: \n",
    "        ax.set_xticklabels(regtable.columns[1:], rotation=40)\n",
    "    \n",
    "    ax.tick_params(axis='both', which='major', labelsize=ticklabsize)\n",
    "    ax.set_ylabel('Fixed Effects Coefficients', fontsize=18)\n",
    "    \n",
    "    # Autoformats the ticklabels for the xaxis\n",
    "    fig.autofmt_xdate()\n",
    "\n",
    "    sns.despine()"
   ]
  },
  {
   "cell_type": "code",
   "execution_count": 15,
   "metadata": {},
   "outputs": [],
   "source": [
    "def regtable(fix, fix_se, names):\n",
    "    fixed_betas = DF(np.array(fix)); fixed_betas = fixed_betas.transpose(); fixed_betas.columns = names\n",
    "    fixed_betas.loc[1] = np.array(fix_se)\n",
    "    fixed_betas.loc[2] = fixed_betas.loc[0] - (fixed_betas.loc[1]*1.96)\n",
    "    fixed_betas.loc[3] = fixed_betas.loc[0] + (fixed_betas.loc[1]*1.96)\n",
    "    fixed_betas.index = ['coefficient', 'se', 'CImin', 'CImax']\n",
    "    return fixed_betas"
   ]
  },
  {
   "cell_type": "code",
   "execution_count": 16,
   "metadata": {},
   "outputs": [],
   "source": [
    "def rgb2hex(r,g,b):\n",
    "    hex = \"#{:02x}{:02x}{:02x}\".format(r,g,b)\n",
    "    return hex"
   ]
  },
  {
   "cell_type": "markdown",
   "metadata": {},
   "source": [
    "# Add some Variables"
   ]
  },
  {
   "cell_type": "markdown",
   "metadata": {},
   "source": [
    "## Colors for the studies"
   ]
  },
  {
   "cell_type": "code",
   "execution_count": 17,
   "metadata": {},
   "outputs": [],
   "source": [
    "colors=sns.color_palette(\"colorblind\") #choose color palette\n",
    "colorFF=colors[0] # choose color\n",
    "colorFF = [i * 255 for i in colorFF] # convert to range 1:255\n",
    "colorFF=rgb2hex(int(colorFF[0]),int(colorFF[1]),int(colorFF[2])) # convert to hex value\n",
    "colorNN=colors[1]\n",
    "colorNN = [i * 255 for i in colorNN]\n",
    "colorNN=rgb2hex(int(colorNN[0]),int(colorNN[1]),int(colorNN[2]))\n",
    "colorNHB=colors[2]\n",
    "colorNHB = [i * 255 for i in colorNHB]\n",
    "colorNHB=rgb2hex(int(colorNHB[0]),int(colorNHB[1]),int(colorNHB[2]))\n",
    "# Import to R\n",
    "%R -i colorFF \n",
    "%R -i colorNN\n",
    "%R -i colorNHB"
   ]
  },
  {
   "cell_type": "markdown",
   "metadata": {},
   "source": [
    "<a id='load'></a>\n",
    "# 3. Load data and excluding participants\n",
    "-----------\n",
    "-------\n",
    "---------"
   ]
  },
  {
   "cell_type": "markdown",
   "metadata": {},
   "source": [
    "## Load data Delgado (2018)"
   ]
  },
  {
   "cell_type": "markdown",
   "metadata": {},
   "source": [
    "Participants 6, 33, 7, 17, 25, 30 should be excluded.Additionally, it was checked that trials in which participants did not fixate in any of the items were were skipped already. Therefore, 7 participants have been excluded.\n",
    "Total number subjects = 40\n",
    "Number of subjects remaining = =33"
   ]
  },
  {
   "cell_type": "code",
   "execution_count": 18,
   "metadata": {},
   "outputs": [
    {
     "name": "stdout",
     "output_type": "stream",
     "text": [
      "[ 1  2  3  4  5  8  9 10 11 12 13 14 15 16 18 19 20 21 22 23 24 26 27 28\n",
      " 29 31 32 34 35 36 37 38 39]\n",
      "Number of participants: 33\n"
     ]
    }
   ],
   "source": [
    "# Load data all participants\n",
    "data_expFF = pd.read_csv('D:\\BDMLAB\\Fam_datasets\\DataFoodFramingNotebook_v1.csv') \n",
    "# data_exp1 = pd.read_csv('D:\\BDMLAB\\FF2018\\Output\\DataFoodFramingNotebook_v1.csv') \n",
    "\n",
    "for i in [6, 7, 17, 25, 30, 33]:\n",
    "    data_expFF = data_expFF[(data_expFF.Part != i)]\n",
    "print (data_expFF[\"Part\"].unique())\n",
    "print ('Number of participants: ' + str(len(data_expFF[\"Part\"].unique())))"
   ]
  },
  {
   "cell_type": "markdown",
   "metadata": {},
   "source": [
    "## Load data De Martino (2013)"
   ]
  },
  {
   "cell_type": "code",
   "execution_count": 19,
   "metadata": {},
   "outputs": [
    {
     "name": "stderr",
     "output_type": "stream",
     "text": [
      "C:\\ProgramData\\Anaconda3\\lib\\site-packages\\ipykernel_launcher.py:64: SettingWithCopyWarning: \n",
      "A value is trying to be set on a copy of a slice from a DataFrame.\n",
      "Try using .loc[row_indexer,col_indexer] = value instead\n",
      "\n",
      "See the caveats in the documentation: http://pandas.pydata.org/pandas-docs/stable/indexing.html#indexing-view-versus-copy\n"
     ]
    }
   ],
   "source": [
    "# Load data all participants\n",
    "data_expNN = pd.read_csv('D:\\BDMLAB\\Fam_datasets\\Data_NN_2013.csv') \n",
    "# data_exp1 = pd.read_csv('/Users/bdmlab/Documents/GiTs/FF2018/FF2018/Additional Datasets/Data_NN_2013.csv') \n",
    "\n",
    "#This function applies the transformations required for \n",
    "data_expNN = add_Value_Fam_LR(data_expNN)\n",
    "\n",
    "\n",
    "#for i in [6, 7, 17, 25, 30, 33]:\n",
    "#    data_exp1 = data_exp1[(data_exp1.Part != i)]\n",
    "#print (data_exp1[\"Part\"].unique())\n",
    "#print ('Number of participants: ' + str(len(data_exp1[\"Part\"].unique())))\n",
    "\n",
    "#data_expNN.to_csv(\"DataNN_test.csv\")"
   ]
  },
  {
   "cell_type": "markdown",
   "metadata": {},
   "source": [
    "## Load data Boldt (2016)"
   ]
  },
  {
   "cell_type": "markdown",
   "metadata": {},
   "source": [
    "In this case we don't have alternatives (e.g. right or left item) to be selected, therefore, it may be more complicated to deal with this dataset in conjunction with the others"
   ]
  },
  {
   "cell_type": "code",
   "execution_count": 20,
   "metadata": {},
   "outputs": [],
   "source": [
    "# Load data all participants\n",
    "data_expAB = pd.read_csv('D:\\BDMLAB\\Fam_datasets\\Data_Annika.csv') \n",
    "#data_exp1 = pd.read_csv('/Users/bdmlab/Documents/GiTs/FF2018/FF2018/Additional Datasets/Data_NN_2013.csv') \n",
    "\n",
    "#add z-score and value and familiarity left/right columns to this dataset\n",
    "data_expAB = zScore_df_VFCS(data_expAB)\n",
    "\n",
    "#for i in [6, 7, 17, 25, 30, 33]:\n",
    "#    data_exp1 = data_exp1[(data_exp1.Part != i)]\n",
    "#print (data_exp1[\"Part\"].unique())\n",
    "#print ('Number of participants: ' + str(len(data_exp1[\"Part\"].unique())))"
   ]
  },
  {
   "cell_type": "markdown",
   "metadata": {},
   "source": [
    "# Load data Folke (2016)"
   ]
  },
  {
   "cell_type": "code",
   "execution_count": 21,
   "metadata": {},
   "outputs": [],
   "source": [
    "# Load data all participants\n",
    "data_expNHB = pd.read_csv('D:\\BDMLAB\\Fam_datasets\\\\NHB_Exp1_Familiarity_Data.csv') "
   ]
  },
  {
   "cell_type": "markdown",
   "metadata": {},
   "source": [
    "# 4. Set up Datasets for Analysis\n",
    "-------------------------------------------"
   ]
  },
  {
   "cell_type": "markdown",
   "metadata": {},
   "source": [
    "### List of parameters available for analysis"
   ]
  },
  {
   "cell_type": "code",
   "execution_count": 22,
   "metadata": {},
   "outputs": [],
   "source": [
    "figsize(15, 15)\n",
    "#Transform to numeric values in the dataframe\n",
    "data_expFF = data_expFF.apply(pd.to_numeric, errors='ignore')\n",
    "data_expNN = data_expNN.apply(pd.to_numeric, errors='ignore')\n",
    "data_expAB = data_expAB.apply(pd.to_numeric, errors='ignore')\n",
    "data_expNHB = data_expNHB.apply(pd.to_numeric, errors='ignore')\n",
    "\n",
    "\n",
    "#Show the list of data columns\n",
    "varsFF = pd.DataFrame(list(data_expFF))\n",
    "varsNN = pd.DataFrame(list(data_expNN))\n",
    "display_titles = pd.concat([varsFF,varsNN], ignore_index=True, axis=1)\n",
    "display_titles\n",
    "#pd.DataFrame(display_titles, columns=[\"FF2018\", \"NN2013\",\"AB2016\"])\n",
    "display_titles.to_csv\n",
    "display_titles.to_csv(\"names_columns.csv\")\n",
    "\n"
   ]
  },
  {
   "cell_type": "markdown",
   "metadata": {},
   "source": [
    "We will use the variable names used in DeMartino2013 for our dataset Delgado2018 and Folke2016."
   ]
  },
  {
   "cell_type": "markdown",
   "metadata": {},
   "source": [
    "## Rename the variables in Delgado2018"
   ]
  },
  {
   "cell_type": "code",
   "execution_count": 23,
   "metadata": {},
   "outputs": [],
   "source": [
    "data_expFF=data_expFF.rename(index=str, columns={\"ChosenITM\":\"Choice\", \n",
    "                              \"ChoiceRT\":\"RT\",\n",
    "                             \"RValue\":\"RVal\",\n",
    "                             \"LValue\":\"LVal\",\n",
    "                             \"zRValue\":\"zRVal\",\n",
    "                             \"zLValue\":\"zLVal\",                    \n",
    "                             \"tDDT\":\"DDT\",\n",
    "                             \"absDDT\":\"zAbsDDT\",\n",
    "                             \"lIA_DT\":\"LDwellTime\",\n",
    "                             \"rIA_DT\":\"RDwellTime\",\n",
    "                             \"tGSF\":\"GSF\",\n",
    "                             \"lastFixat\":\"LastFixat\",\n",
    "                             \"DV\":\"DVal\",\n",
    "                             \"zDV\":\"zDVal\",\n",
    "                             \"absDV\":\"AbsDVal\",\n",
    "                             \"zAbsDV\":\"zAbsDVal\",                    \n",
    "                             \"zChoiceRT\":\"zRT\",\n",
    "                             \"FamCh\":\"ChosenFam\",\n",
    "                              \"FamUnCh\":\"UnchosenFam\",\n",
    "                              \"ValCh\":\"ChosenVal\",\n",
    "                              \"ValUnCh\":\"UnchosenVal\",\n",
    "                             \"zFamCh\":\"zChosenFam\",\n",
    "                              \"zFamUnCh\":\"zUnchosenFam\",\n",
    "                              \"zValCh\":\"zChosenVal\",\n",
    "                              \"zValUnCh\":\"zUnchosenVal\",                   \n",
    "                              \"GSFMedSplit\":\"GSFSplit\",\n",
    "                            \"DDTMedSplit\":\"DDTSplit\"})"
   ]
  },
  {
   "cell_type": "markdown",
   "metadata": {},
   "source": [
    "### Separate only like condition for Delgado2018"
   ]
  },
  {
   "cell_type": "code",
   "execution_count": 24,
   "metadata": {},
   "outputs": [],
   "source": [
    "#Select Condition \n",
    "data_expFF = data_expFF.loc[data_expFF['BlockCond'] == 1] # 1 = Like, 2 = Dislike"
   ]
  },
  {
   "cell_type": "markdown",
   "metadata": {},
   "source": [
    "## Rename the variables in DeMartino2013"
   ]
  },
  {
   "cell_type": "code",
   "execution_count": 25,
   "metadata": {},
   "outputs": [],
   "source": [
    "data_expNN=data_expNN.rename(index=str, columns={\"Participant\":\"Part\",\n",
    "                            \"ChosenValue\":\"ChosenVal\",\n",
    "                            \"UnchosenValue\":\"UnchosenVal\",\n",
    "                            \"DiffValue\":\"DVal\",\n",
    "                            \"AbsDiffValue\":\"AbsDVal\",\n",
    "                            \"TotalValue\":\"TotVal\",\n",
    "                            \"DiffFam\":\"DFam\",\n",
    "                            \"AbsDiffFam\":\"AbsDFam\",\n",
    "                            \"TotalFam\":\"TotFam\",\n",
    "                            \"Confidence\":\"Conf\" ,\n",
    "                            \"zChosenValue\":\"zChosenVal\",\n",
    "                            \"zUnchosenValue\":\"zUnchosenVal\",\n",
    "                            \"zDiffValue\":\"zDVal\",\n",
    "                            \"zAbsDiffValue\":\"zAbsDVal\",\n",
    "                            \"zTotalValue\":\"zTotVal\",\n",
    "                            \"zDiffFam\":\"zDFam\",\n",
    "                            \"zAbsDiffFam\":\"zAbsDFam\",\n",
    "                            \"zTotalFam\":\"zTotFam\",\n",
    "                            \"zConfidence\":\"zConf\"  })"
   ]
  },
  {
   "cell_type": "markdown",
   "metadata": {},
   "source": [
    "## Rename the variables in Folke2016"
   ]
  },
  {
   "cell_type": "markdown",
   "metadata": {},
   "source": [
    "Eye variables weren't renamed yet"
   ]
  },
  {
   "cell_type": "code",
   "execution_count": 26,
   "metadata": {},
   "outputs": [],
   "source": [
    "data_expNHB=data_expNHB.rename(index=str, columns={\"SubNo\":\"Part\",\n",
    "                                                  \"choice\":\"Choice\",\n",
    "                                                  \"BDM_left\":\"LVal\",\n",
    "                                                  \"BDM_right\":\"RVal\",\n",
    "                                                  \"Diff_Value\":\"DVal\",\n",
    "                                                  \"confidence\":\"Conf\",\n",
    "                                                  \"FamLeft\":\"LFam\",\n",
    "                                                  \"FamRight\":\"RFam\",\n",
    "                                                  \"Diff_Fam\":\"DFam\",\n",
    "                                                  \"zDV\":\"zDVal\",\n",
    "                                                  \"zAbsDV\":\"zAbsDVal\",\n",
    "                                                  \"zConfidence\":\"zConf\",\n",
    "                                                  \"ZFamLeft\":\"zLFam\",\n",
    "                                                  \"ZFamRight\":\"zRFam\",\n",
    "                                                   \"Diff_Fam\":\"DFam\",\n",
    "                                                  \"absDV\":\"AbsDVal\"})"
   ]
  },
  {
   "cell_type": "code",
   "execution_count": 27,
   "metadata": {},
   "outputs": [
    {
     "name": "stderr",
     "output_type": "stream",
     "text": [
      "C:\\ProgramData\\Anaconda3\\lib\\site-packages\\ipykernel_launcher.py:1: SettingWithCopyWarning: \n",
      "A value is trying to be set on a copy of a slice from a DataFrame\n",
      "\n",
      "See the caveats in the documentation: http://pandas.pydata.org/pandas-docs/stable/indexing.html#indexing-view-versus-copy\n",
      "  \"\"\"Entry point for launching an IPython kernel.\n"
     ]
    }
   ],
   "source": [
    "data_expNHB.Choice[data_expNHB['Choice']==-1] = 0"
   ]
  },
  {
   "cell_type": "code",
   "execution_count": null,
   "metadata": {},
   "outputs": [],
   "source": []
  },
  {
   "cell_type": "markdown",
   "metadata": {},
   "source": [
    "### Create Variables that are missing in Folke2016"
   ]
  },
  {
   "cell_type": "code",
   "execution_count": 30,
   "metadata": {},
   "outputs": [],
   "source": [
    "data_expFF = data_expFF[data_expFF.TotVal!=0]\n",
    "data_expNN = data_expNN[data_expNN.TotVal!=0]\n",
    "data_expNHB = data_expNHB[data_expNHB.TotVal!=0]"
   ]
  },
  {
   "cell_type": "code",
   "execution_count": 238,
   "metadata": {},
   "outputs": [],
   "source": [
    "# print(len(data_expNHB.Part.unique()))\n",
    "# for i in range(0,len(data_expNHB.Part.unique())):\n",
    "#     tmp=pd.DataFrame([data_expNHB['TotFam'][data_expNHB.Part==data_expNHB.Part.unique()[i]]]).transpose()\n",
    "#     print(tmp.std())\n",
    "# data_expNHB[data_expNHB.Part== data_expNHB.Part.unique()[3]]"
   ]
  },
  {
   "cell_type": "code",
   "execution_count": 32,
   "metadata": {},
   "outputs": [],
   "source": [
    "data_expNHB=data_expNHB[data_expNHB.Part!= data_expNHB.Part.unique()[3]]"
   ]
  },
  {
   "cell_type": "code",
   "execution_count": 33,
   "metadata": {},
   "outputs": [
    {
     "name": "stderr",
     "output_type": "stream",
     "text": [
      "C:\\ProgramData\\Anaconda3\\lib\\site-packages\\ipykernel_launcher.py:3: SettingWithCopyWarning: \n",
      "A value is trying to be set on a copy of a slice from a DataFrame.\n",
      "Try using .loc[row_indexer,col_indexer] = value instead\n",
      "\n",
      "See the caveats in the documentation: http://pandas.pydata.org/pandas-docs/stable/indexing.html#indexing-view-versus-copy\n",
      "  This is separate from the ipykernel package so we can avoid doing imports until\n",
      "C:\\ProgramData\\Anaconda3\\lib\\site-packages\\ipykernel_launcher.py:5: SettingWithCopyWarning: \n",
      "A value is trying to be set on a copy of a slice from a DataFrame.\n",
      "Try using .loc[row_indexer,col_indexer] = value instead\n",
      "\n",
      "See the caveats in the documentation: http://pandas.pydata.org/pandas-docs/stable/indexing.html#indexing-view-versus-copy\n",
      "  \"\"\"\n",
      "C:\\ProgramData\\Anaconda3\\lib\\site-packages\\ipykernel_launcher.py:47: SettingWithCopyWarning: \n",
      "A value is trying to be set on a copy of a slice from a DataFrame.\n",
      "Try using .loc[row_indexer,col_indexer] = value instead\n",
      "\n",
      "See the caveats in the documentation: http://pandas.pydata.org/pandas-docs/stable/indexing.html#indexing-view-versus-copy\n",
      "C:\\ProgramData\\Anaconda3\\lib\\site-packages\\ipykernel_launcher.py:48: SettingWithCopyWarning: \n",
      "A value is trying to be set on a copy of a slice from a DataFrame.\n",
      "Try using .loc[row_indexer,col_indexer] = value instead\n",
      "\n",
      "See the caveats in the documentation: http://pandas.pydata.org/pandas-docs/stable/indexing.html#indexing-view-versus-copy\n",
      "C:\\ProgramData\\Anaconda3\\lib\\site-packages\\ipykernel_launcher.py:49: SettingWithCopyWarning: \n",
      "A value is trying to be set on a copy of a slice from a DataFrame.\n",
      "Try using .loc[row_indexer,col_indexer] = value instead\n",
      "\n",
      "See the caveats in the documentation: http://pandas.pydata.org/pandas-docs/stable/indexing.html#indexing-view-versus-copy\n",
      "C:\\ProgramData\\Anaconda3\\lib\\site-packages\\ipykernel_launcher.py:50: SettingWithCopyWarning: \n",
      "A value is trying to be set on a copy of a slice from a DataFrame.\n",
      "Try using .loc[row_indexer,col_indexer] = value instead\n",
      "\n",
      "See the caveats in the documentation: http://pandas.pydata.org/pandas-docs/stable/indexing.html#indexing-view-versus-copy\n",
      "C:\\ProgramData\\Anaconda3\\lib\\site-packages\\ipykernel_launcher.py:51: SettingWithCopyWarning: \n",
      "A value is trying to be set on a copy of a slice from a DataFrame.\n",
      "Try using .loc[row_indexer,col_indexer] = value instead\n",
      "\n",
      "See the caveats in the documentation: http://pandas.pydata.org/pandas-docs/stable/indexing.html#indexing-view-versus-copy\n",
      "C:\\ProgramData\\Anaconda3\\lib\\site-packages\\ipykernel_launcher.py:52: SettingWithCopyWarning: \n",
      "A value is trying to be set on a copy of a slice from a DataFrame.\n",
      "Try using .loc[row_indexer,col_indexer] = value instead\n",
      "\n",
      "See the caveats in the documentation: http://pandas.pydata.org/pandas-docs/stable/indexing.html#indexing-view-versus-copy\n",
      "C:\\ProgramData\\Anaconda3\\lib\\site-packages\\ipykernel_launcher.py:11: SettingWithCopyWarning: \n",
      "A value is trying to be set on a copy of a slice from a DataFrame.\n",
      "Try using .loc[row_indexer,col_indexer] = value instead\n",
      "\n",
      "See the caveats in the documentation: http://pandas.pydata.org/pandas-docs/stable/indexing.html#indexing-view-versus-copy\n",
      "  # This is added back by InteractiveShellApp.init_path()\n",
      "C:\\ProgramData\\Anaconda3\\lib\\site-packages\\ipykernel_launcher.py:12: SettingWithCopyWarning: \n",
      "A value is trying to be set on a copy of a slice from a DataFrame.\n",
      "Try using .loc[row_indexer,col_indexer] = value instead\n",
      "\n",
      "See the caveats in the documentation: http://pandas.pydata.org/pandas-docs/stable/indexing.html#indexing-view-versus-copy\n",
      "  if sys.path[0] == '':\n",
      "C:\\ProgramData\\Anaconda3\\lib\\site-packages\\pandas\\core\\indexing.py:543: SettingWithCopyWarning: \n",
      "A value is trying to be set on a copy of a slice from a DataFrame.\n",
      "Try using .loc[row_indexer,col_indexer] = value instead\n",
      "\n",
      "See the caveats in the documentation: http://pandas.pydata.org/pandas-docs/stable/indexing.html#indexing-view-versus-copy\n",
      "  self.obj[item] = s\n",
      "C:\\ProgramData\\Anaconda3\\lib\\site-packages\\ipykernel_launcher.py:18: SettingWithCopyWarning: \n",
      "A value is trying to be set on a copy of a slice from a DataFrame.\n",
      "Try using .loc[row_indexer,col_indexer] = value instead\n",
      "\n",
      "See the caveats in the documentation: http://pandas.pydata.org/pandas-docs/stable/indexing.html#indexing-view-versus-copy\n",
      "C:\\ProgramData\\Anaconda3\\lib\\site-packages\\ipykernel_launcher.py:19: SettingWithCopyWarning: \n",
      "A value is trying to be set on a copy of a slice from a DataFrame.\n",
      "Try using .loc[row_indexer,col_indexer] = value instead\n",
      "\n",
      "See the caveats in the documentation: http://pandas.pydata.org/pandas-docs/stable/indexing.html#indexing-view-versus-copy\n",
      "C:\\ProgramData\\Anaconda3\\lib\\site-packages\\ipykernel_launcher.py:25: SettingWithCopyWarning: \n",
      "A value is trying to be set on a copy of a slice from a DataFrame.\n",
      "Try using .loc[row_indexer,col_indexer] = value instead\n",
      "\n",
      "See the caveats in the documentation: http://pandas.pydata.org/pandas-docs/stable/indexing.html#indexing-view-versus-copy\n"
     ]
    }
   ],
   "source": [
    "\n",
    "\n",
    "data_expNHB['TotVal']=data_expNHB['LVal']+data_expNHB['RVal']\n",
    "#data_expNHB['zTotVal']=data_expNHB['TotVal'].transform(lambda x: (x - x.mean()) / x.std())\n",
    "data_expNHB['TotFam']=data_expNHB['LFam']+data_expNHB['RFam']\n",
    "#data_expNHB['zTotFam']=data_expNHB['TotFam'].transform(lambda x: (x - x.mean()) / x.std())\n",
    "#data_expNHB['zDFam']=data_expNHB['DFam'].transform(lambda x: (x - x.mean()) / x.std())\n",
    "\n",
    "data_expNHB = zScore_NHB2016(data_expNHB)\n",
    "\n",
    "data_expNHB['ChosenVal']=data_expNHB['Choice']\n",
    "data_expNHB['UnchosenVal']=data_expNHB['Choice']\n",
    "data_expNHB.loc[data_expNHB['Choice']==1,'ChosenVal']=data_expNHB.loc[data_expNHB['Choice']==1,'RVal']\n",
    "data_expNHB.loc[data_expNHB['Choice']==0,'ChosenVal']=data_expNHB.loc[data_expNHB['Choice']==0,'LVal']\n",
    "data_expNHB.loc[data_expNHB['Choice']==0,'UnchosenVal']=data_expNHB.loc[data_expNHB['Choice']==0,'RVal']\n",
    "data_expNHB.loc[data_expNHB['Choice']==1,'UnchosenVal']=data_expNHB.loc[data_expNHB['Choice']==1,'LVal']\n",
    "\n",
    "data_expNHB['ChosenFam']=data_expNHB['Choice']\n",
    "data_expNHB['UnchosenFam']=data_expNHB['Choice']\n",
    "data_expNHB.loc[data_expNHB['Choice']==1,'ChosenFam']=data_expNHB.loc[data_expNHB['Choice']==1,'RFam']\n",
    "data_expNHB.loc[data_expNHB['Choice']==0,'ChosenFam']=data_expNHB.loc[data_expNHB['Choice']==0,'LFam']\n",
    "data_expNHB.loc[data_expNHB['Choice']==0,'UnchosenFam']=data_expNHB.loc[data_expNHB['Choice']==0,'RFam']\n",
    "data_expNHB.loc[data_expNHB['Choice']==1,'UnchosenFam']=data_expNHB.loc[data_expNHB['Choice']==1,'LFam']\n",
    "\n",
    "data_expNHB['zAbsDFam']=data_expNHB['zDFam'].abs()"
   ]
  },
  {
   "cell_type": "markdown",
   "metadata": {},
   "source": [
    "## Load Data into R"
   ]
  },
  {
   "cell_type": "code",
   "execution_count": 36,
   "metadata": {
    "scrolled": true
   },
   "outputs": [],
   "source": [
    "%R -i data_expFF"
   ]
  },
  {
   "cell_type": "code",
   "execution_count": 37,
   "metadata": {
    "scrolled": true
   },
   "outputs": [],
   "source": [
    "%R -i data_expNN"
   ]
  },
  {
   "cell_type": "code",
   "execution_count": 38,
   "metadata": {
    "scrolled": true
   },
   "outputs": [],
   "source": [
    "%R -i data_expNHB"
   ]
  },
  {
   "cell_type": "markdown",
   "metadata": {},
   "source": [
    "# 5. Data Analysis\n",
    "----------------------\n",
    "--------------------------\n",
    "------------------------------------"
   ]
  },
  {
   "cell_type": "markdown",
   "metadata": {},
   "source": [
    "## STUFF BEFORE REGRESSION ANALYSIS -> SEE PRADY'S CODE"
   ]
  },
  {
   "cell_type": "markdown",
   "metadata": {},
   "source": [
    "# Regression Analyses\n",
    "---------\n",
    "-------"
   ]
  },
  {
   "cell_type": "markdown",
   "metadata": {},
   "source": [
    "# Predicting Choice\n",
    "---------------"
   ]
  },
  {
   "cell_type": "markdown",
   "metadata": {},
   "source": [
    "### Choice ~ zDVal + zConf + zTotVal + zDVal:zConf + zDVal:zTotVal"
   ]
  },
  {
   "cell_type": "code",
   "execution_count": 62,
   "metadata": {},
   "outputs": [
    {
     "data": {
      "image/png": "[encoded data removed]"
     },
     "metadata": {},
     "output_type": "display_data"
    }
   ],
   "source": [
    "%%R\n",
    "# Figure replicating Folke 2016.\n",
    "\n",
    "title_plot = \"Predicting Choice (Model C1)\"\n",
    "\n",
    "ModelChoiceFF_1 <- glm(Choice ~ zDVal + zConf + zTotVal + zDVal:zConf + zDVal:zTotVal , data=data_expFF, family=binomial(link=\"logit\"))\n",
    "ModelChoiceNN_1 <- glm(Choice ~ zDVal + zConf + zTotVal + zDVal:zConf + zDVal:zTotVal , data=data_expNN, family=binomial(link=\"logit\"))\n",
    "ModelChoiceNHB_1 <- glm(Choice ~ zDVal + zConf + zTotVal + zDVal:zConf + zDVal:zTotVal , data=data_expNHB, family=binomial(link=\"logit\"))\n",
    "\n",
    "# save string containing the predictors\n",
    "Predictors_1 = \"zDVal + zConf + zTotVal + zDVal:zConf + zDVal:zTotVal\"\n",
    "\n",
    "coefplot(ModelChoiceFF_1,intercept=FALSE,vertical = FALSE,  col.pts=colorFF, cex.var=1.5, cex.pts=2.2, mar = c(8,4,5,1) ,ylim=c(-2.6, 5) ,main=title_plot)\n",
    "coefplot(ModelChoiceNN_1, intercept=FALSE, vertical = FALSE, add=TRUE, col.pts=colorNN, cex.var=1.5, cex.pts=2.2,mar = c(8,4,5,1),offset=0.13)\n",
    "coefplot(ModelChoiceNHB_1, intercept=FALSE, vertical = FALSE, add=TRUE, col.pts=colorNHB, cex.var=1.5, cex.pts=2.2,mar = c(8,4,5,1),offset=0.26)\n",
    "\n",
    "legend(\"topright\",  legend=c(\"Delgado2018\", \"DeMartino2013\",\"Folke2016\"),col=c(colorFF,colorNN,colorNHB), lty=1:1, cex=1)"
   ]
  },
  {
   "cell_type": "markdown",
   "metadata": {},
   "source": [
    "### Choice ~ LVal + RVal + zConf\n",
    "Originally hat zTotVal included, but the coefficient came out as NA_real_ for dataset Folke2016 (probably because of linear relation between LVal, RVal and zTotVal [Wondering why this was not the case for Delgado2018 and DeMartino2013]). Hence, zTotVal was excluded.\n",
    "(-> ask prady why he included it)"
   ]
  },
  {
   "cell_type": "code",
   "execution_count": 63,
   "metadata": {},
   "outputs": [
    {
     "data": {
      "image/png": "[encoded data removed]"
     },
     "metadata": {},
     "output_type": "display_data"
    }
   ],
   "source": [
    "%%R\n",
    "title_plot = \"Predicting Choice (Model C2)\"\n",
    "\n",
    "ModelChoiceFF_2 <- glm(Choice ~ LVal + RVal + zConf , data=data_expFF, family=binomial(link=\"logit\"))\n",
    "ModelChoiceNN_2 <- glm(Choice ~ LVal + RVal + zConf , data=data_expNN, family=binomial(link=\"logit\"))\n",
    "ModelChoiceNHB_2 <- glm(Choice ~ LVal + RVal + zConf , data=data_expNHB, family=binomial(link=\"logit\"))\n",
    "\n",
    "# save string containing the predictors\n",
    "Predictors_2 = \"LVal + RVal + zConf\"\n",
    "\n",
    "coefplot(ModelChoiceFF_2,intercept=FALSE,vertical = FALSE,  col.pts=colorFF, cex.var=1.5, cex.pts=2.2, mar = c(8,4,5,1) ,ylim=c(-4, 4) ,main=title_plot)\n",
    "coefplot(ModelChoiceNN_2, intercept=FALSE, vertical = FALSE, add=TRUE, col.pts=colorNN, cex.var=1.5, cex.pts=2.2,mar = c(8,4,5,1),offset=0.13)\n",
    "coefplot(ModelChoiceNHB_2, intercept=FALSE, vertical = FALSE, add=TRUE, col.pts=colorNHB, cex.var=1.5, cex.pts=2.2,mar = c(8,4,5,1),offset=0.26)\n",
    "\n",
    "legend(\"topright\",  legend=c(\"Delgado2018\", \"DeMartino2013\",\"Folke2016\"),col=c(colorFF,colorNN,colorNHB), lty=1:1, cex=1)\n"
   ]
  },
  {
   "cell_type": "markdown",
   "metadata": {},
   "source": [
    "### Choice ~ LFam + RFam + zConf\n",
    "Same problem with zTotFam in Folke2016 as before with zTotVal. zTotFam was excluded as predictor"
   ]
  },
  {
   "cell_type": "code",
   "execution_count": 64,
   "metadata": {},
   "outputs": [
    {
     "data": {
      "image/png": "[encoded data removed]"
     },
     "metadata": {},
     "output_type": "display_data"
    }
   ],
   "source": [
    "%%R\n",
    "# regression for choice and familiarity\n",
    "title_plot = \"Predicting Choice (Model C3)\"\n",
    "\n",
    "ModelChoiceFF_3 <- glm(Choice ~ LFam + RFam + zConf , data=data_expFF, family=binomial(link=\"logit\"))\n",
    "ModelChoiceNN_3 <- glm(Choice ~ LFam + RFam + zConf, data=data_expNN, family=binomial(link=\"logit\"))\n",
    "ModelChoiceNHB_3 <- glm(Choice ~ LFam + RFam + zConf, data=data_expNHB, family=binomial(link=\"logit\"))\n",
    "\n",
    "# save string containing the predictors\n",
    "Predictors_3 = \"LFam + RFam + zConf\"\n",
    "\n",
    "coefplot(ModelChoiceFF_3,intercept=FALSE,vertical = FALSE,  col.pts=colorFF, cex.var=1.5, cex.pts=2.2, mar = c(8,4,5,1) ,ylim=c(-1.0, 1.0) ,main=title_plot)\n",
    "coefplot(ModelChoiceNN_3, intercept=FALSE, vertical = FALSE, add=TRUE, col.pts=colorNN, cex.var=1.5, cex.pts=2.2,mar = c(8,4,5,1),offset=0.13)\n",
    "coefplot(ModelChoiceNHB_3, intercept=FALSE, vertical = FALSE, add=TRUE, col.pts=colorNHB, cex.var=1.5, cex.pts=2.2,mar = c(8,4,5,1),offset=0.26)\n",
    "\n",
    "legend(\"topright\",  legend=c(\"Delgado2018\", \"DeMartino2013\",\"Folke2016\"),col=c(colorFF,colorNN,colorNHB), lty=1:1, cex=1)"
   ]
  },
  {
   "cell_type": "markdown",
   "metadata": {},
   "source": [
    "### Choice ~ LFam + RFam + zConf\n",
    "As above zTotFam was excluded."
   ]
  },
  {
   "cell_type": "code",
   "execution_count": 65,
   "metadata": {},
   "outputs": [
    {
     "data": {
      "image/png": "[encoded data removed]"
     },
     "metadata": {},
     "output_type": "display_data"
    }
   ],
   "source": [
    "%%R\n",
    "# regression for choice and familiarity\n",
    "title_plot = \"Predicting Choice (Model C4)\"\n",
    "\n",
    "ModelChoiceFF_4<- glm(Choice ~ LFam + RFam + zConf, data=data_expFF, family=binomial(link=\"logit\"))\n",
    "ModelChoiceNN_4 <- glm(Choice ~ LFam + RFam + zConf, data=data_expNN, family=binomial(link=\"logit\"))\n",
    "ModelChoiceNHB_4 <- glm(Choice ~ LFam + RFam + zConf, data=data_expNHB, family=binomial(link=\"logit\"))\n",
    "\n",
    "# save string containing the predictors\n",
    "Predictors_4 = \"LFam + RFam + zConf\"\n",
    "\n",
    "coefplot(ModelChoiceFF_4,intercept=FALSE,vertical = FALSE,  col.pts=colorFF, cex.var=1.5, cex.pts=2.2, mar = c(8,4,5,1) ,ylim=c(-1.0, 1.0) ,main=title_plot)\n",
    "coefplot(ModelChoiceNN_4, intercept=FALSE, vertical = FALSE, add=TRUE, col.pts=colorNN, cex.var=1.5, cex.pts=2.2,mar = c(8,4,5,1),offset=0.13)\n",
    "coefplot(ModelChoiceNHB_4, intercept=FALSE, vertical = FALSE, add=TRUE, col.pts=colorNHB, cex.var=1.5, cex.pts=2.2,mar = c(8,4,5,1),offset=0.26)\n",
    "\n",
    "legend(\"topright\",  legend=c(\"Delgado2018\", \"DeMartino2013\",\"Folke2016\"),col=c(colorFF,colorNN,colorNHB), lty=1:1, cex=1)"
   ]
  },
  {
   "cell_type": "markdown",
   "metadata": {},
   "source": [
    "### Choice ~ zDFam + zConf +zTotFam + zDFam:zConf + zDFam:TotFam"
   ]
  },
  {
   "cell_type": "code",
   "execution_count": 66,
   "metadata": {},
   "outputs": [
    {
     "data": {
      "image/png": "[encoded data removed]"
     },
     "metadata": {},
     "output_type": "display_data"
    }
   ],
   "source": [
    "%%R\n",
    "#regression for confidence and familiarity\n",
    "title_plot = \"Predicting Choice (Model C5)\"\n",
    "\n",
    "ModelChoiceFF_5 <- glm(Choice ~ zDFam + zConf +zTotFam + zDFam:zConf + zDFam:zTotFam , data=data_expFF, family=binomial(link=\"logit\"))\n",
    "ModelChoiceNN_5 <- glm(Choice ~ zDFam + zConf +zTotFam + zDFam:zConf + zDFam:zTotFam , data=data_expNN, family=binomial(link=\"logit\"))\n",
    "ModelChoiceNHB_5 <- glm(Choice ~ zDFam + zConf +zTotFam + zDFam:zConf + zDFam:zTotFam , data=data_expNHB, family=binomial(link=\"logit\"))\n",
    "\n",
    "# save string containing the predictors\n",
    "Predictors_5 = \"zDFam + zConf +zTotFam + zDFam:zConf + zDFam:TotFam\"\n",
    "\n",
    "coefplot(ModelChoiceFF_5,intercept=FALSE,vertical = FALSE,  col.pts=colorFF, cex.var=1.5, cex.pts=2.2, mar = c(8,4,5,1) ,ylim=c(-1.0, 1.5) ,main=title_plot)\n",
    "coefplot(ModelChoiceNN_5, intercept=FALSE, vertical = FALSE, add=TRUE, col.pts=colorNN, cex.var=1.5, cex.pts=2.2,mar = c(8,4,5,1),offset=0.13)\n",
    "coefplot(ModelChoiceNHB_5, intercept=FALSE, vertical = FALSE, add=TRUE, col.pts=colorNHB, cex.var=1.5, cex.pts=2.2,mar = c(8,4,5,1),offset=0.26)\n",
    "\n",
    "legend(\"topright\",  legend=c(\"Delgado2018\", \"DeMartino2013\",\"Folke2016\"),col=c(colorFF,colorNN,colorNHB), lty=1:1, cex=1)"
   ]
  },
  {
   "cell_type": "markdown",
   "metadata": {},
   "source": [
    "DeMartino2013 goes in the opposite direction for zDFam. This shouldn't happen given model C4.\n",
    "Investigating DFam in DeMartino shows that DFam - (RFam-LFam) is not 0 everywhere as it should be."
   ]
  },
  {
   "cell_type": "code",
   "execution_count": 67,
   "metadata": {},
   "outputs": [
    {
     "data": {
      "image/png": "[encoded data removed]"
     },
     "metadata": {},
     "output_type": "display_data"
    }
   ],
   "source": [
    "%%R\n",
    "plotvar = data_expNN$DFam-(data_expNN$RFam-data_expNN$LFam)\n",
    "plot(plotvar[300:400])"
   ]
  },
  {
   "cell_type": "markdown",
   "metadata": {},
   "source": [
    "Hence DVal was recomputed."
   ]
  },
  {
   "cell_type": "code",
   "execution_count": 68,
   "metadata": {},
   "outputs": [],
   "source": [
    "data_expNN[\"DFam\"]=data_expNN[\"RFam\"]-data_expNN[\"LFam\"]\n",
    "data_expNN['zDFam']=data_expNN['DFam'].transform(lambda x: (x - x.mean()) / x.std())\n",
    "%R -i data_expNN"
   ]
  },
  {
   "cell_type": "markdown",
   "metadata": {},
   "source": [
    "Redoing the regression: All effects for zDFam are positive."
   ]
  },
  {
   "cell_type": "code",
   "execution_count": 69,
   "metadata": {},
   "outputs": [
    {
     "data": {
      "image/png": "[encoded data removed]"
     },
     "metadata": {},
     "output_type": "display_data"
    }
   ],
   "source": [
    "%%R\n",
    "#regression for confidence and familiarity\n",
    "title_plot = \"Predicting Choice (Model C5)\"\n",
    "\n",
    "ModelChoiceFF_5 <- glm(Choice ~ zDFam + zConf +zTotFam + zDFam:zConf + zDFam:zTotFam , data=data_expFF, family=binomial(link=\"logit\"))\n",
    "ModelChoiceNN_5 <- glm(Choice ~ zDFam + zConf +zTotFam + zDFam:zConf + zDFam:zTotFam , data=data_expNN, family=binomial(link=\"logit\"))\n",
    "ModelChoiceNHB_5 <- glm(Choice ~ zDFam + zConf +zTotFam + zDFam:zConf + zDFam:zTotFam , data=data_expNHB, family=binomial(link=\"logit\"))\n",
    "\n",
    "# save string containing the predictors\n",
    "Predictors_5 = \"zDFam + zConf +zTotFam + zDFam:zConf + zDFam:TotFam\"\n",
    "\n",
    "coefplot(ModelChoiceFF_5,intercept=FALSE,vertical = FALSE,  col.pts=colorFF, cex.var=1.5, cex.pts=2.2, mar = c(8,4,5,1) ,ylim=c(-1.0, 1.5) ,main=title_plot)\n",
    "coefplot(ModelChoiceNN_5, intercept=FALSE, vertical = FALSE, add=TRUE, col.pts=colorNN, cex.var=1.5, cex.pts=2.2,mar = c(8,4,5,1),offset=0.13)\n",
    "coefplot(ModelChoiceNHB_5, intercept=FALSE, vertical = FALSE, add=TRUE, col.pts=colorNHB, cex.var=1.5, cex.pts=2.2,mar = c(8,4,5,1),offset=0.26)\n",
    "\n",
    "legend(\"topright\",  legend=c(\"Delgado2018\", \"DeMartino2013\",\"Folke2016\"),col=c(colorFF,colorNN,colorNHB), lty=1:1, cex=1)"
   ]
  },
  {
   "cell_type": "markdown",
   "metadata": {},
   "source": [
    "### Choice ~ zDVal + zConf + zDFam + zTotVal +zTotFam"
   ]
  },
  {
   "cell_type": "code",
   "execution_count": 70,
   "metadata": {},
   "outputs": [
    {
     "data": {
      "image/png": "[encoded data removed]"
     },
     "metadata": {},
     "output_type": "display_data"
    }
   ],
   "source": [
    "%%R\n",
    "# regression for choice and familiarity\n",
    "title_plot = \"Predicting Choice (Model C6)\"\n",
    "\n",
    "ModelChoiceFF_6 <- glm(Choice ~ zDVal + zConf + zDFam + zTotVal +zTotFam, data=data_expFF, family=binomial(link=\"logit\"))\n",
    "ModelChoiceNN_6 <- glm(Choice ~ zDVal + zConf + zDFam + zTotVal+ zTotFam, data=data_expNN, family=binomial(link=\"logit\"))\n",
    "ModelChoiceNHB_6 <- glm(Choice ~ zDVal + zConf + zDFam + zTotVal+ zTotFam, data=data_expNHB, family=binomial(link=\"logit\"))\n",
    "\n",
    "# save string containing the predictors\n",
    "Predictors_6 = \"zDVal + zConf + zDFam + zTotVal +zTotFam\"\n",
    "\n",
    "coefplot(ModelChoiceFF_6,intercept=FALSE,vertical = FALSE,  col.pts=colorFF, cex.var=1.5, cex.pts=2.2, mar = c(8,4,5,1) ,ylim=c(-1.0, 3.0) ,main=title_plot)\n",
    "coefplot(ModelChoiceNN_6, intercept=FALSE, vertical = FALSE, add=TRUE, col.pts=colorNN, cex.var=1.5, cex.pts=2.2,mar = c(8,4,5,1),offset=0.13)\n",
    "coefplot(ModelChoiceNHB_6, intercept=FALSE, vertical = FALSE, add=TRUE, col.pts=colorNHB, cex.var=1.5, cex.pts=2.2,mar = c(8,4,5,1),offset=0.26)\n",
    "\n",
    "legend(\"topright\",  legend=c(\"Delgado2018\", \"DeMartino2013\",\"Folke2016\"),col=c(colorFF,colorNN,colorNHB), lty=1:1, cex=1)"
   ]
  },
  {
   "cell_type": "markdown",
   "metadata": {},
   "source": [
    "### Choice ~ zDVal + zDFam"
   ]
  },
  {
   "cell_type": "code",
   "execution_count": 71,
   "metadata": {},
   "outputs": [
    {
     "data": {
      "image/png": "[encoded data removed]"
     },
     "metadata": {},
     "output_type": "display_data"
    }
   ],
   "source": [
    "%%R\n",
    "# regression for choice and familiarity\n",
    "title_plot = \"Predicting Choice (Model C7)\"\n",
    "\n",
    "ModelChoiceFF_7 <- glm(Choice ~ zDVal + zDFam , data=data_expFF, family=binomial(link=\"logit\"))\n",
    "ModelChoiceNN_7 <- glm(Choice ~ zDVal + zDFam , data=data_expNN, family=binomial(link=\"logit\"))\n",
    "ModelChoiceNHB_7 <- glm(Choice ~ zDVal + zDFam , data=data_expNHB, family=binomial(link=\"logit\"))\n",
    "\n",
    "# save string containing the predictors\n",
    "Predictors_7 = \"zDVal + zDFam\"\n",
    "\n",
    "coefplot(ModelChoiceFF_7,intercept=FALSE,vertical = FALSE,  col.pts=colorFF, cex.var=1.5, cex.pts=2.2, mar = c(8,4,5,1) ,ylim=c(-1.0, 3.0) ,main=title_plot)\n",
    "coefplot(ModelChoiceNN_7, intercept=FALSE, vertical = FALSE, add=TRUE, col.pts=colorNN, cex.var=1.5, cex.pts=2.2,mar = c(8,4,5,1),offset=0.13)\n",
    "coefplot(ModelChoiceNHB_7, intercept=FALSE, vertical = FALSE, add=TRUE, col.pts=colorNHB, cex.var=1.5, cex.pts=2.2,mar = c(8,4,5,1),offset=0.26)\n",
    "\n",
    "legend(\"topright\",  legend=c(\"Delgado2018\", \"DeMartino2013\",\"Folke2016\"),col=c(colorFF,colorNN,colorNHB), lty=1:1, cex=1)"
   ]
  },
  {
   "cell_type": "markdown",
   "metadata": {},
   "source": [
    "### Choice ~ zDV + zConf + zDFam + zDV:zConf + zDFam:zConf"
   ]
  },
  {
   "cell_type": "code",
   "execution_count": 72,
   "metadata": {},
   "outputs": [
    {
     "data": {
      "image/png": "[encoded data removed]"
     },
     "metadata": {},
     "output_type": "display_data"
    }
   ],
   "source": [
    "%%R\n",
    "# regression for choice and familiarity\n",
    "title_plot = \"Predicting Choice (Model C8)\"\n",
    "\n",
    "ModelChoiceFF_8 <- glm(Choice ~ zDVal + zConf + zDFam + zDVal:zConf + zDFam:zConf, data=data_expFF, family=binomial(link=\"logit\"))\n",
    "ModelChoiceNN_8 <- glm(Choice ~ zDVal + zConf + zDFam + zDVal:zConf + zDFam:zConf, data=data_expNN, family=binomial(link=\"logit\"))\n",
    "ModelChoiceNHB_8 <- glm(Choice ~ zDVal + zConf + zDFam + zDVal:zConf + zDFam:zConf, data=data_expNHB, family=binomial(link=\"logit\"))\n",
    "\n",
    "# save string containing the predictors\n",
    "Predictors_8 = \"zDVal + zConf + zDFam + zDVal:zConf\"\n",
    "\n",
    "coefplot(ModelChoiceFF_8,intercept=FALSE,vertical = FALSE,  col.pts=colorFF, cex.var=1.5, cex.pts=2.2, mar = c(8,4,5,1) ,ylim=c(-1.0, 3.0) ,main=title_plot)\n",
    "coefplot(ModelChoiceNN_8, intercept=FALSE, vertical = FALSE, add=TRUE, col.pts=colorNN, cex.var=1.5, cex.pts=2.2,mar = c(8,4,5,1),offset=0.13)\n",
    "coefplot(ModelChoiceNHB_8, intercept=FALSE, vertical = FALSE, add=TRUE, col.pts=colorNHB, cex.var=1.5, cex.pts=2.2,mar = c(8,4,5,1),offset=0.26)\n",
    "\n",
    "legend(\"topright\",  legend=c(\"Delgado2018\", \"DeMartino2013\",\"Folke2016\"),col=c(colorFF,colorNN,colorNHB), lty=1:1, cex=1)"
   ]
  },
  {
   "cell_type": "markdown",
   "metadata": {},
   "source": [
    "## Interpretation & Notes\n",
    "- zDFam predicts Choice even when zDVal is included\n",
    "- Both zDVal and zDFam interact positivly with Confidence\n",
    "    #### Questions:\n",
    "    - What is the variance zDFam and zDVal explain independently\n",
    "    - Why do zDVal and zDFam show the same effects?\n"
   ]
  },
  {
   "cell_type": "markdown",
   "metadata": {},
   "source": [
    "# Predicting Confidence\n",
    "---------------"
   ]
  },
  {
   "cell_type": "markdown",
   "metadata": {},
   "source": [
    "### zConf ~ zChosenVal + zUnchosenVal + zChosenFam + zUnchosenFam +zRT"
   ]
  },
  {
   "cell_type": "code",
   "execution_count": 232,
   "metadata": {},
   "outputs": [
    {
     "data": {
      "image/png": "[encoded data removed]"
     },
     "metadata": {},
     "output_type": "display_data"
    }
   ],
   "source": [
    "%%R\n",
    "# Figure replicating Folke 2016. \n",
    "title_plot = \"Predicting Confidence (Model Conf1)\"\n",
    "\n",
    "ModelConfidenceFF_1 <- glm(zConf ~ zChosenVal + zUnchosenVal + zChosenFam + zUnchosenFam +zRT , data=data_expFF)\n",
    "ModelConfidenceNN_1 <- glm(zConf ~  zChosenVal + zUnchosenVal + zChosenFam + zUnchosenFam +zRT, data=data_expNN)\n",
    "#ModelConfidenceNHB_1 <- glm(zConf ~ zChosenVal + zUnchosenVal + zChosenFam + zUnchosenFam  , data=data_expNHB)\n",
    "\n",
    "# save string containing the predictors\n",
    "PredictorsConf_1 = \"zChosenVal + zUnchosenVal + zChosenFam + zUnchosenFam +zRT\"\n",
    "\n",
    "coefplot(ModelConfidenceFF_1,intercept=FALSE,vertical = FALSE,  col.pts=colorFF, cex.var=1.5, cex.pts=2.2, mar = c(8,4,5,1) ,ylim=c(-1, 1) ,main=title_plot)\n",
    "coefplot(ModelConfidenceNN_1, intercept=FALSE, vertical = FALSE, add=TRUE, col.pts=colorNN, cex.var=1.5, cex.pts=2.2,mar = c(8,4,5,1),offset=0.13)\n",
    "#coefplot(ModelConfidenceNHB_1, intercept=FALSE, vertical = FALSE, add=TRUE, col.pts=colorNHB, cex.var=1.5, cex.pts=2.2,mar = c(8,4,5,1),offset=0.26)\n",
    "\n",
    "legend(\"topright\",  legend=c(\"Delgado2018\", \"DeMartino2013\",\"Folke2016\"),col=c(colorFF,colorNN,colorNHB), lty=1:1, cex=1)"
   ]
  },
  {
   "cell_type": "markdown",
   "metadata": {},
   "source": [
    "### zConf ~ zTotVal + zTotFam + zDVal + zDFam +zRT"
   ]
  },
  {
   "cell_type": "code",
   "execution_count": 231,
   "metadata": {},
   "outputs": [
    {
     "data": {
      "image/png": "[encoded data removed]"
     },
     "metadata": {},
     "output_type": "display_data"
    }
   ],
   "source": [
    "%%R\n",
    "# Figure replicating Folke 2016. \n",
    "title_plot = \"Predicting Confidence (Model Conf2)\"\n",
    "\n",
    "ModelConfidenceFF_2 <- glm(zConf ~ zTotVal + zTotFam + zDVal + zDFam +zRT , data=data_expFF)\n",
    "ModelConfidenceNN_2 <- glm(zConf ~ zTotVal + zTotFam + zDVal + zDFam +zRT, data=data_expNN)\n",
    "#ModelConfidenceNHB_1 <- glm(zConf ~ zChosenVal + zUnchosenVal + zChosenFam + zUnchosenFam  , data=data_expNHB)\n",
    "\n",
    "# save string containing the predictors\n",
    "PredictorsConf_2 = \"zTotVal + zTotFam + zDVal + zDFam +zRT\"\n",
    "\n",
    "coefplot(ModelConfidenceFF_2,intercept=FALSE,vertical = FALSE,  col.pts=colorFF, cex.var=1.5, cex.pts=2.2, mar = c(8,4,5,1) ,ylim=c(-0.5, 0.5) ,main=title_plot)\n",
    "coefplot(ModelConfidenceNN_2, intercept=FALSE, vertical = FALSE, add=TRUE, col.pts=colorNN, cex.var=1.5, cex.pts=2.2,mar = c(8,4,5,1),offset=0.13)\n",
    "#coefplot(ModelConfidenceNHB_1, intercept=FALSE, vertical = FALSE, add=TRUE, col.pts=colorNHB, cex.var=1.5, cex.pts=2.2,mar = c(8,4,5,1),offset=0.26)\n",
    "\n",
    "legend(\"topright\",  legend=c(\"Delgado2018\", \"DeMartino2013\",\"Folke2016\"),col=c(colorFF,colorNN,colorNHB), lty=1:1, cex=1)"
   ]
  },
  {
   "cell_type": "markdown",
   "metadata": {},
   "source": [
    "Same behavior of Value and Familiarity, besides that unchosen Familiarity has no effect vs. unchosen Value that has."
   ]
  },
  {
   "cell_type": "markdown",
   "metadata": {},
   "source": [
    "# Predict Value\n",
    "-----"
   ]
  },
  {
   "cell_type": "markdown",
   "metadata": {},
   "source": [
    "### Difference in Value ~ LFam + RFam"
   ]
  },
  {
   "cell_type": "code",
   "execution_count": 80,
   "metadata": {},
   "outputs": [
    {
     "data": {
      "image/png": "[encoded data removed]"
     },
     "metadata": {},
     "output_type": "display_data"
    }
   ],
   "source": [
    "%%R\n",
    "#regression for confidence and familiarity\n",
    "title_plot = \"Predicting Difference in Value (Model DV1)\"\n",
    "\n",
    "ModelDvFF_1 <- glm(zDVal~ LFam + RFam  , data=data_expFF)\n",
    "ModelDvNN_1 <- glm(zDVal~ LFam + RFam , data=data_expNN)\n",
    "ModelDvNHB_1 <- glm(zDVal~ LFam + RFam , data=data_expNHB)\n",
    "\n",
    "# save string containing the predictors\n",
    "PredictorsDv_1 = \"LFam + RFam\"\n",
    "\n",
    "coefplot(ModelDvFF_1,intercept=FALSE,vertical = FALSE,  col.pts=colorFF, cex.var=1.5, cex.pts=2.2, mar = c(8,4,5,1) ,ylim=c(-1.0, 1.0) ,main=title_plot)\n",
    "coefplot(ModelDvNN_1, intercept=FALSE, vertical = FALSE, add=TRUE, col.pts=colorNN, cex.var=1.5, cex.pts=2.2,mar = c(8,4,5,1),offset=0.13)\n",
    "coefplot(ModelDvNHB_1, intercept=FALSE, vertical = FALSE, add=TRUE, col.pts=colorNHB, cex.var=1.5, cex.pts=2.2,mar = c(8,4,5,1),offset=0.26)\n",
    "\n",
    "legend(\"topright\",  legend=c(\"Delgado2018\", \"DeMartino2013\",\"Folke2016\"),col=c(colorFF,colorNN,colorNHB), lty=1:1, cex=1)"
   ]
  },
  {
   "cell_type": "markdown",
   "metadata": {},
   "source": [
    "# Reaction Time Analysis\n",
    "-------"
   ]
  },
  {
   "cell_type": "markdown",
   "metadata": {},
   "source": [
    "I wasn't sure how to model Reaction Times so I used a linear model on z-transformed RTs as well as a glm with underlying inverse.gaussian and inverse link function for every model.\n",
    "DeMartino2013 wasn't modeled as there are some trials in the data that are weird. In those Trials RT was 0 as well as some other variables. These should probably be excluded...?"
   ]
  },
  {
   "cell_type": "markdown",
   "metadata": {},
   "source": [
    "### zRT ~ zConf with linear regression"
   ]
  },
  {
   "cell_type": "code",
   "execution_count": 42,
   "metadata": {},
   "outputs": [
    {
     "data": {
      "image/png": "[encoded data removed]"
     },
     "metadata": {},
     "output_type": "display_data"
    }
   ],
   "source": [
    "%%R\n",
    "title_plot=\"Predicting zRT (Model RT1)\"\n",
    "\n",
    "ModelRtFF_1 <-glm(zRT ~ zConf , data=data_expFF )#, family = inverse.gaussian(link = \"inverse\"))\n",
    "ModelRtNN_1 <-glm(zRT ~ zConf , data=data_expNN) #, family = inverse.gaussian(link = \"inverse\"))\n",
    "ModelRtNHB_1<-glm(zRT ~ zConf , data=data_expNHB )#, family = inverse.gaussian(link = \"inverse\"))\n",
    "\n",
    "coefplot(ModelRtFF_1,intercept=FALSE,vertical = FALSE,  col.pts=colorFF, cex.var=1.5, cex.pts=2.2, mar = c(8,4,5,1) ,ylim=c(-0.5,0.5),main=title_plot)\n",
    "coefplot(ModelRtNN_1, intercept=FALSE, vertical = FALSE, add=TRUE, col.pts=colorNN, cex.var=1.5, cex.pts=2.2,mar = c(8,4,5,1),offset=0.13)\n",
    "coefplot(ModelRtNHB_1, intercept=FALSE, vertical = FALSE, add=TRUE, col.pts=colorNHB, cex.var=1.5, cex.pts=2.2,mar = c(8,4,5,1),offset=0.26)\n",
    "\n",
    "legend(\"topright\",  legend=c(\"Delgado2018\",\"DeMartino2013\", \"Folke2016\"),col=c(colorFF,colorNN,colorNHB), lty=1:1, cex=1)\n"
   ]
  },
  {
   "cell_type": "markdown",
   "metadata": {},
   "source": [
    "### RT ~ zConf with inverse gaussian distribution\n",
    "A very big difference between predictors (DeMartino Model is at -100)"
   ]
  },
  {
   "cell_type": "code",
   "execution_count": 43,
   "metadata": {},
   "outputs": [
    {
     "data": {
      "image/png": "[encoded data removed]"
     },
     "metadata": {},
     "output_type": "display_data"
    }
   ],
   "source": [
    "%%R\n",
    "title_plot=\"Predicting zRT (Model RT1b)\"\n",
    "\n",
    "ModelRtFF_1b <-glm(RT ~ zConf , data=data_expFF , family = inverse.gaussian(link = \"inverse\"))\n",
    "ModelRtNN_1b <-glm(RT ~ zConf , data=data_expNN , family = inverse.gaussian(link = \"inverse\"))\n",
    "ModelRtNHB_1b<-glm(RT ~ zConf , data=data_expNHB , family = inverse.gaussian(link = \"inverse\"))\n",
    "\n",
    "coefplot(ModelRtFF_1b,intercept=FALSE,vertical = FALSE,  col.pts=colorFF, cex.var=1.5, cex.pts=2.2, mar = c(8,4,5,1) ,ylim=c(-0.01,0.15),main=title_plot)\n",
    "coefplot(ModelRtNN_1b, intercept=FALSE, vertical = FALSE, add=TRUE, col.pts=colorNN, cex.var=1.5, cex.pts=2.2,mar = c(8,4,5,1),offset=0.13)\n",
    "coefplot(ModelRtNHB_1b, intercept=FALSE, vertical = FALSE, add=TRUE, col.pts=colorNHB, cex.var=1.5, cex.pts=2.2,mar = c(8,4,5,1),offset=0.26)\n",
    "\n",
    "legend(\"topright\",  legend=c(\"Delgado2018\",\"DeMartino2013\", \"Folke2016\"),col=c(colorFF,colorNN,colorNHB), lty=1:1, cex=1)\n"
   ]
  },
  {
   "cell_type": "markdown",
   "metadata": {},
   "source": [
    "### zRT ~ zDVal + zRFam + zLFam + zConf with linear regression"
   ]
  },
  {
   "cell_type": "code",
   "execution_count": 44,
   "metadata": {},
   "outputs": [
    {
     "data": {
      "image/png": "[encoded data removed]"
     },
     "metadata": {},
     "output_type": "display_data"
    }
   ],
   "source": [
    "%%R\n",
    "\n",
    "title_plot=\"Predicting zRT (Model RT2)\"\n",
    "\n",
    "ModelRtFF_2 <-glm(zRT ~zDVal +zTotVal + zDFam +zTotFam+ zConf , data=data_expFF )#, family = inverse.gaussian(link = \"inverse\"))\n",
    "ModelRtNN_2 <-glm(zRT ~zDVal +zTotVal + zDFam+zTotFam+ zConf , data=data_expNN) #, family = inverse.gaussian(link = \"inverse\"))\n",
    "ModelRtNHB_2 <-glm(zRT ~zDVal +zTotVal + zDFam+zTotFam + zConf , data=data_expNHB )#, family = inverse.gaussian(link = \"inverse\"))\n",
    "\n",
    "coefplot(ModelRtFF_2,intercept=FALSE,vertical = FALSE,  col.pts=colorFF, cex.var=1.5, cex.pts=2.2, mar = c(8,4,5,1) ,ylim=c(-0.3,0.3),main=title_plot)\n",
    "coefplot(ModelRtNN_2, intercept=FALSE, vertical = FALSE, add=TRUE, col.pts=colorNN, cex.var=1.5, cex.pts=2.2,mar = c(8,4,5,1),offset=0.13)\n",
    "coefplot(ModelRtNHB_2, intercept=FALSE, vertical = FALSE, add=TRUE, col.pts=colorNHB, cex.var=1.5, cex.pts=2.2,mar = c(8,4,5,1),offset=0.26)\n",
    "\n",
    "legend(\"topright\",  legend=c(\"Delgado2018\",\"DeMartino2013\", \"Folke2016\"),col=c(colorFF,colorNN,colorNHB), lty=1:1, cex=1)\n"
   ]
  },
  {
   "cell_type": "markdown",
   "metadata": {},
   "source": [
    "### zRT ~ zDVal + zRFam + zLFam + zConf with linear regression with inverse gaussian distribution\n",
    "Confidence predictor from Folke 2016 is negative (not visible in the plot)"
   ]
  },
  {
   "cell_type": "code",
   "execution_count": 45,
   "metadata": {},
   "outputs": [
    {
     "data": {
      "image/png": "[encoded data removed]"
     },
     "metadata": {},
     "output_type": "display_data"
    }
   ],
   "source": [
    "%%R\n",
    "title_plot=\"Predicting zRT (Model RT2b)\"\n",
    "\n",
    "ModelRtFF_2b <-glm(RT ~zDVal +zTotFam + zConf , data=data_expFF , family = inverse.gaussian(link = \"inverse\"))\n",
    "ModelRtNN_2b <-glm(RT ~zDVal +zTotFam+ zConf , data=data_expNN , family = inverse.gaussian(link = \"inverse\"))\n",
    "ModelRtNHB_2b <-glm(RT ~zDVal +zTotFam+ zConf , data=data_expNHB , family = inverse.gaussian(link = \"inverse\"))\n",
    "\n",
    "coefplot(ModelRtFF_2b,intercept=FALSE,vertical = FALSE,  col.pts=colorFF, cex.var=1.5, cex.pts=2.2, mar = c(8,4,5,1) ,ylim=c(-0.2,0.2),main=title_plot)\n",
    "coefplot(ModelRtNN_2b, intercept=FALSE, vertical = FALSE, add=TRUE, col.pts=colorNN, cex.var=1.5, cex.pts=2.2,mar = c(8,4,5,1),offset=0.13)\n",
    "coefplot(ModelRtNHB_2b, intercept=FALSE, vertical = FALSE, add=TRUE, col.pts=colorNHB, cex.var=1.5, cex.pts=2.2,mar = c(8,4,5,1),offset=0.26)\n",
    "\n",
    "legend(\"topright\",  legend=c(\"Delgado2018\",\"DeMartino2013\", \"Folke2016\"),col=c(colorFF,colorNN,colorNHB), lty=1:1, cex=1)\n"
   ]
  },
  {
   "cell_type": "markdown",
   "metadata": {},
   "source": [
    "The Coefficients for zRFam and zLFam are significant in Folke2016 but very small. To compare models BIC was computed and showed that the inclusion of regressors besides zConf doesn't improve the model."
   ]
  },
  {
   "cell_type": "code",
   "execution_count": 46,
   "metadata": {},
   "outputs": [],
   "source": [
    "%%R\n",
    "\n",
    "BICModelRtFF_1=BIC(ModelRtFF_1)\n",
    "BICModelRtNN_1=BIC(ModelRtNN_1)\n",
    "BICModelRtNHB_1=BIC(ModelRtNHB_1)\n",
    "BICModelRtFF_1b=BIC(ModelRtFF_1b)\n",
    "BICModelRtNHB_1b=BIC(ModelRtNHB_1b)\n",
    "BICModelRtFF_2=BIC(ModelRtFF_2)\n",
    "BICModelRtNHB_2=BIC(ModelRtNHB_2)\n",
    "BICModelRtFF_2b=BIC(ModelRtFF_2b)\n",
    "BICModelRtNHB_2b=BIC(ModelRtNHB_2b)\n",
    "\n",
    "allBICs<-(c(BICModelRtFF_1,BICModelRtNHB_1,BICModelRtNN_1,BICModelRtFF_1b,BICModelRtNHB_1b,BICModelRtFF_2,BICModelRtNHB_2,BICModelRtFF_2b,BICModelRtNHB_2b))"
   ]
  },
  {
   "cell_type": "code",
   "execution_count": 49,
   "metadata": {},
   "outputs": [],
   "source": [
    "%R -o allBICs"
   ]
  },
  {
   "cell_type": "code",
   "execution_count": 50,
   "metadata": {},
   "outputs": [
    {
     "name": "stdout",
     "output_type": "stream",
     "text": [
      "BIC RT1 Delgado2018\t 10228.401399020946\n",
      "BIC RT1 Folke2016\t 16483.23661570785\n",
      "BIC RT1b Delgado2018\t 66363.11842165861\n",
      "BIC RT1b Folke2016\t 16465.421612968355\n",
      "BIC RT2 Delgado2018\t 10245.496802144753\n",
      "BIC RT2 Folke2016\t 16470.947509682366\n",
      "BIC RT2b Delgado2018\t 66372.38077631265\n",
      "BIC RT2b Folke2016\t 16443.135650076325\n"
     ]
    }
   ],
   "source": [
    "print('BIC RT1 Delgado2018\\t',allBICs[0])\n",
    "print('BIC RT1 Folke2016\\t',allBICs[1])\n",
    "print('BIC RT1b Delgado2018\\t',allBICs[3])\n",
    "print('BIC RT1b Folke2016\\t',allBICs[4])\n",
    "print('BIC RT2 Delgado2018\\t',allBICs[5])\n",
    "print('BIC RT2 Folke2016\\t',allBICs[6])\n",
    "print('BIC RT2b Delgado2018\\t',allBICs[7])\n",
    "print('BIC RT2b Folke2016\\t',allBICs[8])"
   ]
  },
  {
   "cell_type": "markdown",
   "metadata": {},
   "source": [
    "Model including total Familiarity doesnt improve the model in Delgado 2018, but does so in Folke2016"
   ]
  },
  {
   "cell_type": "markdown",
   "metadata": {},
   "source": [
    "### zRT ~ zChosenFam +zUnchosenFam+ zConf +zChosenFam:zConf+zUnchosenFam:zConf\n",
    "From here on only the linear model as it seems to provide the better fit."
   ]
  },
  {
   "cell_type": "code",
   "execution_count": 51,
   "metadata": {},
   "outputs": [
    {
     "data": {
      "image/png": "[encoded data removed]"
     },
     "metadata": {},
     "output_type": "display_data"
    }
   ],
   "source": [
    "%%R\n",
    "title_plot=\"Predicting zRT (Model RT3)\"\n",
    "\n",
    "ModelRtFF_3 <-glm(zRT ~zChosenVal +zUnchosenVal+zChosenFam +zUnchosenFam+ zConf , data=data_expFF)\n",
    "ModelRtNN_3 <-glm(zRT ~zChosenVal +zUnchosenVal+zChosenFam +zUnchosenFam+ zConf, data=data_expNN)\n",
    "#ModelRtNHB_3 <-glm(zRT ~zDVal +zChosenFam +zUnchosenFam+ zConf +zChosenFam:zConf+zUnchosenFam:zConf , data=data_expNHB)\n",
    "\n",
    "coefplot(ModelRtFF_3,intercept=FALSE,vertical = FALSE,  col.pts=colorFF, cex.var=1.5, cex.pts=2.2, mar = c(8,4,5,1) ,ylim=c(-0.5,0.5),main=title_plot)\n",
    "coefplot(ModelRtNN_3, intercept=FALSE, vertical = FALSE, add=TRUE, col.pts=colorNN, cex.var=1.5, cex.pts=2.2,mar = c(8,4,5,1),offset=0.13)\n",
    "#coefplot(ModelRtNHB_2b, intercept=FALSE, vertical = FALSE, add=TRUE, col.pts=colorNHB, cex.var=1.5, cex.pts=2.2,mar = c(8,4,5,1),offset=0.26)\n",
    "\n",
    "legend(\"topright\",  legend=c(\"Delgado2018\",\"DeMartino2013\", \"Folke2016\"),col=c(colorFF,colorNN,colorNHB), lty=1:1, cex=1)\n",
    "\n",
    "BICModelRtFF_3 = BIC(ModelRtFF_3)\n",
    "BICModelRtNN_3 = BIC(ModelRtNN_3)"
   ]
  },
  {
   "cell_type": "markdown",
   "metadata": {},
   "source": [
    "Note: Maybe a hierachical regression with study specific predictors can predict the different effects of unchosen fam and unchosen val?"
   ]
  },
  {
   "cell_type": "code",
   "execution_count": 52,
   "metadata": {},
   "outputs": [],
   "source": [
    "%R -o  BICModelRtNN_3"
   ]
  },
  {
   "cell_type": "code",
   "execution_count": 53,
   "metadata": {},
   "outputs": [],
   "source": [
    "%R -o  BICModelRtFF_3"
   ]
  },
  {
   "cell_type": "code",
   "execution_count": 54,
   "metadata": {},
   "outputs": [
    {
     "name": "stdout",
     "output_type": "stream",
     "text": [
      "Model only Conf Delgado:\t 10228.401399020946\n",
      "Model only Conf DeMartino:\t 16079.836178444462\n",
      "Model with Fam Delgado:\t\t 10203.233306565191\n",
      "Model with Fam DeMartino:\t 15733.584311293094\n"
     ]
    }
   ],
   "source": [
    "print('Model only Conf Delgado:\\t',allBICs[0])\n",
    "print('Model only Conf DeMartino:\\t',allBICs[2])\n",
    "print('Model with Fam Delgado:\\t\\t',BICModelRtFF_3[0])\n",
    "print('Model with Fam DeMartino:\\t',BICModelRtNN_3[0])"
   ]
  },
  {
   "cell_type": "markdown",
   "metadata": {},
   "source": [
    "Model including Familiarity of Chosen Value seems to improve the model in DeMartino2013 but not in Delgado2018. What to make of that? Should we put into consideration that 2 of the predictors are not different from 0?"
   ]
  },
  {
   "cell_type": "markdown",
   "metadata": {},
   "source": [
    "Why are the coefficients so much smaller in Delgado 2018? -> something in data with the size of the variables probably -> check out later"
   ]
  },
  {
   "cell_type": "markdown",
   "metadata": {},
   "source": [
    "Note the same pattern as in the Confidence regressions in Delgado2018. Unchosen Value has an effect, while unchosen Familiarity has not. However,it seems to be the other way round in DeMartino2013"
   ]
  },
  {
   "cell_type": "markdown",
   "metadata": {},
   "source": [
    "# IF FAM HAS EFFECT ON RT:\n",
    "Investigate in drift model at what stage FAM has an effect:\n",
    "    1. Use best fitting model from Nature Communications paper\n",
    "    2. Implement FAM in:\n",
    "        - Drift Rate\n",
    "        - Offset\n",
    "        - Both\n",
    "        - Non\n",
    "    -> What would the different interpretations be?\n",
    "    -> What if FAM has NO effect on RT?"
   ]
  },
  {
   "cell_type": "markdown",
   "metadata": {},
   "source": [
    "# Note: Familiarity is behaves very much like value"
   ]
  },
  {
   "cell_type": "markdown",
   "metadata": {},
   "source": [
    "# On Another Note\n",
    "2 Stage Model of Decision Making:\n",
    "    1. Stage: Seperate Accumulators for the two choice options\n",
    "    2. Stage: Combined drifting Accumulator for Decision\n",
    "- Belief Confidence gets computed from 1. Stage\n",
    "- Decision Confidence might be directly dependent on belief confidences (has not been tested in paper Boldt 2017?)\n",
    "    - Are the two opposit gradients of fMRI activity from De Martino 2013 in favor of this hypothesis?\n",
    "    - How is the 2. Stage dependent on the first Stage (i.e. if its linearly dependent shouldn't there be no gradient, but equal activation?)\n",
    "        - ...Remeber that total value has an influence... -> what does this imply? "
   ]
  },
  {
   "cell_type": "markdown",
   "metadata": {},
   "source": [
    "# Hypothesis:\n",
    "-------\n",
    "- Samples of any kind (in this case from perception+memory) are continously evaluated and transformed into time-varying value estimates\n",
    "- The variation of this value estimate leads to computation of belief confidences\n",
    "    -These belief confidences are then transformed into a decision confidence\n",
    "- The estimated values are forwarded to a value comparison unit (operating DDM like)\n",
    "\n",
    "-> This makes sense because "
   ]
  },
  {
   "cell_type": "markdown",
   "metadata": {},
   "source": [
    "## Familiarity for each item predicts Value and Confidence"
   ]
  },
  {
   "cell_type": "code",
   "execution_count": 220,
   "metadata": {},
   "outputs": [
    {
     "data": {
      "image/png": "[encoded data removed]"
     },
     "metadata": {},
     "output_type": "display_data"
    }
   ],
   "source": [
    "%%R\n",
    "title_plot=\"Predicting zRT (Model RT3)\"\n",
    "\n",
    "ModelRtFF_3 <-glm(zRVal ~zRFam, data=data_expFF)\n",
    "ModelRtFF_3b <-glm(zLVal ~zLFam, data=data_expFF)\n",
    "ModelRtNN_3 <-glm(zRVal ~zRFam, data=data_expNN)\n",
    "ModelRtNN_3b <-glm(zLVal ~zLFam, data=data_expNN)\n",
    "\n",
    "\n",
    "#ModelRtNHB_3 <-glm(zRT ~zDVal +zChosenFam +zUnchosenFam+ zConf +zChosenFam:zConf+zUnchosenFam:zConf , data=data_expNHB)\n",
    "\n",
    "coefplot(ModelRtFF_3,intercept=FALSE,vertical = FALSE,  col.pts=colorFF, cex.var=1.5, cex.pts=2.2, mar = c(8,4,5,1) ,ylim=c(-1,1),main=title_plot)\n",
    "coefplot(ModelRtFF_3b, intercept=FALSE, vertical = FALSE, add=TRUE, col.pts=colorFF, cex.var=1.5, cex.pts=2.2,mar = c(8,4,5,1),offset=0.13)\n",
    "coefplot(ModelRtNN_3, intercept=FALSE, vertical = FALSE, add=TRUE, col.pts=colorNN, cex.var=1.5, cex.pts=2.2,mar = c(8,4,5,1),offset=0.26)\n",
    "coefplot(ModelRtNN_3b, intercept=FALSE, vertical = FALSE, add=TRUE, col.pts=colorNN, cex.var=1.5, cex.pts=2.2,mar = c(8,4,5,1),offset=0.39)\n",
    "\n",
    "#coefplot(ModelRtNHB_2b, intercept=FALSE, vertical = FALSE, add=TRUE, col.pts=colorNHB, cex.var=1.5, cex.pts=2.2,mar = c(8,4,5,1),offset=0.26)\n",
    "\n",
    "legend(\"topright\",  legend=c(\"Delgado2018\", \"Folke2016\"),col=c(colorFF,colorNHB), lty=1:1, cex=1)"
   ]
  },
  {
   "cell_type": "code",
   "execution_count": 216,
   "metadata": {},
   "outputs": [
    {
     "data": {
      "image/png": "[encoded data removed]"
     },
     "metadata": {},
     "output_type": "display_data"
    }
   ],
   "source": [
    "%%R\n",
    "ModelRtFF_3c <-glm(zConf ~ zLFam+zRFam, data=data_expFF)\n",
    "ModelRtNN_3c <-glm(zConf ~ zLFam+zRFam, data=data_expNN)\n",
    "coefplot(ModelRtFF_3c,intercept=FALSE,vertical = FALSE,  col.pts=colorFF, cex.var=1.5, cex.pts=2.2, mar = c(8,4,5,1),offset=0.26,ylim=c(-.3,.3),main=title_plot)\n",
    "coefplot(ModelRtNN_3c, intercept=FALSE, vertical = FALSE, add=TRUE, col.pts=colorNN, cex.var=1.5, cex.pts=2.2,mar = c(8,4,5,1),offset=0.39)"
   ]
  },
  {
   "cell_type": "code",
   "execution_count": 60,
   "metadata": {},
   "outputs": [],
   "source": [
    "data_expFF.to_csv(path_or_buf='D:\\BDMLAB\\export_datasets\\data_expFF.csv')\n",
    "data_expNN.to_csv(path_or_buf='D:\\BDMLAB\\export_datasets\\data_expNN.csv')\n",
    "data_expNHB.to_csv(path_or_buf='D:\\BDMLAB\\export_datasets\\data_expNHB.csv')"
   ]
  },
  {
   "cell_type": "markdown",
   "metadata": {},
   "source": [
    "# Some more plotting of the data"
   ]
  },
  {
   "cell_type": "code",
   "execution_count": 1,
   "metadata": {},
   "outputs": [
    {
     "ename": "NameError",
     "evalue": "name 'plt' is not defined",
     "output_type": "error",
     "traceback": [
      "\u001b[1;31m---------------------------------------------------------------------------\u001b[0m",
      "\u001b[1;31mNameError\u001b[0m                                 Traceback (most recent call last)",
      "\u001b[1;32m<ipython-input-1-def0ebbc4b01>\u001b[0m in \u001b[0;36m<module>\u001b[1;34m()\u001b[0m\n\u001b[0;32m      1\u001b[0m \u001b[1;33m\u001b[0m\u001b[0m\n\u001b[1;32m----> 2\u001b[1;33m \u001b[0mfig\u001b[0m  \u001b[1;33m=\u001b[0m \u001b[0mplt\u001b[0m\u001b[1;33m.\u001b[0m\u001b[0mfigure\u001b[0m\u001b[1;33m(\u001b[0m\u001b[0mfigsize\u001b[0m\u001b[1;33m=\u001b[0m\u001b[1;33m(\u001b[0m\u001b[1;36m8\u001b[0m\u001b[1;33m,\u001b[0m\u001b[1;36m10\u001b[0m\u001b[1;33m)\u001b[0m\u001b[1;33m)\u001b[0m\u001b[1;33m\u001b[0m\u001b[0m\n\u001b[0m\u001b[0;32m      3\u001b[0m \u001b[1;33m\u001b[0m\u001b[0m\n\u001b[0;32m      4\u001b[0m \u001b[1;31m#sns.kdeplot(data_expFF['RFam'],shade=True,color='g',label=\"FF\")\u001b[0m\u001b[1;33m\u001b[0m\u001b[1;33m\u001b[0m\u001b[0m\n\u001b[0;32m      5\u001b[0m \u001b[1;31m#sns.kdeplot(data_expNN['RFam'],shade=True,color='orange',label=\"NN\")\u001b[0m\u001b[1;33m\u001b[0m\u001b[1;33m\u001b[0m\u001b[0m\n",
      "\u001b[1;31mNameError\u001b[0m: name 'plt' is not defined"
     ]
    }
   ],
   "source": [
    "\n",
    "fig  = plt.figure(figsize=(8,10))\n",
    "\n",
    "#sns.kdeplot(data_expFF['RFam'],shade=True,color='g',label=\"FF\")\n",
    "#sns.kdeplot(data_expNN['RFam'],shade=True,color='orange',label=\"NN\")\n",
    "\n",
    "sns.distplot(data_expFF['zDFam'],color='g', kde_kws = {\"label\":\"FF2018\"}, bins = 27)\n",
    "sns.distplot(data_expNN['zDFam'],color='orange',kde_kws = {\"label\":\"NN2013\"}, bins = 27).set_title(\"zDFam distribution\")\n",
    "sns.distplot(data_expNHB['zDFam'],color='blue',kde_kws = {\"label\":\"NN2013\"}, bins = 27).set_title(\"zDFam distribution\")\n",
    "\n",
    "\n",
    "#fig.set_title('Z-scored Familiarity',fontsize=18)\n",
    "unique(data_expFF[\"RFam\"])"
   ]
  },
  {
   "cell_type": "code",
   "execution_count": null,
   "metadata": {},
   "outputs": [],
   "source": []
  }
 ],
 "metadata": {
  "kernelspec": {
   "display_name": "Python 3",
   "language": "python",
   "name": "python3"
  },
  "language_info": {
   "codemirror_mode": {
    "name": "ipython",
    "version": 3
   },
   "file_extension": ".py",
   "mimetype": "text/x-python",
   "name": "python",
   "nbconvert_exporter": "python",
   "pygments_lexer": "ipython3",
   "version": "3.7.0"
  }
 },
 "nbformat": 4,
 "nbformat_minor": 2
}
